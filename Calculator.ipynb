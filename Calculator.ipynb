{
 "cells": [
  {
   "cell_type": "code",
   "execution_count": 1,
   "metadata": {},
   "outputs": [
    {
     "name": "stdout",
     "output_type": "stream",
     "text": [
      "Enter first input 16\n",
      "Enter second input 4\n",
      "select option\n",
      "1 is add\n",
      "2 is sub\n",
      "3 is mul\n",
      "4 is div\n",
      "select choice 1\n",
      "addition of two numbers 20\n"
     ]
    }
   ],
   "source": [
    "ip1=int(input('Enter first input '))\n",
    "ip2=int(input('Enter second input '))\n",
    "\n",
    "def Add(ip1,ip2):\n",
    "    return ip1+ip2;\n",
    "\n",
    "def Sub(ip1,ip2):\n",
    "    return ip1-ip2;\n",
    "\n",
    "def Mul(ip1,ip2):\n",
    "    return ip1*ip2;\n",
    "\n",
    "def Div(ip1,ip2):\n",
    "    return ip1/ip2\n",
    "\n",
    "print('select option')\n",
    "print('1 is add')\n",
    "print('2 is sub')\n",
    "print('3 is mul')\n",
    "print('4 is div')\n",
    "\n",
    "def make():\n",
    "    while True:    \n",
    "        choice=input(\"select choice \")\n",
    "        if choice in ('1','2','3','4'):\n",
    "            if (choice=='1'):\n",
    "                print('addition of two numbers',Add(ip1,ip2))\n",
    "                \n",
    "            elif(choice=='2'):\n",
    "                print('subtraction of two numbers',Sub(ip1,ip2))\n",
    "            elif(choice=='3'):\n",
    "                print('multiplication of two numbers',Mul(ip1,ip2))\n",
    "            elif(choice=='4'):\n",
    "                print('division of two numbers',Div(ip1,ip2))\n",
    "            break\n",
    "        else:\n",
    "            print('invalid choice')\n",
    "make()"
   ]
  }
 ],
 "metadata": {
  "kernelspec": {
   "display_name": "Python 3",
   "language": "python",
   "name": "python3"
  },
  "language_info": {
   "codemirror_mode": {
    "name": "ipython",
    "version": 3
   },
   "file_extension": ".py",
   "mimetype": "text/x-python",
   "name": "python",
   "nbconvert_exporter": "python",
   "pygments_lexer": "ipython3",
   "version": "3.7.4"
  }
 },
 "nbformat": 4,
 "nbformat_minor": 2
}
