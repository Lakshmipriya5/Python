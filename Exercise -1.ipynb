{
 "cells": [
  {
   "cell_type": "code",
   "execution_count": 4,
   "metadata": {},
   "outputs": [
    {
     "name": "stdout",
     "output_type": "stream",
     "text": [
      "0\n",
      "1\n",
      "2\n",
      "3\n",
      "4\n",
      "5\n",
      "6\n",
      "7\n",
      "8\n",
      "9\n",
      "10\n"
     ]
    }
   ],
   "source": [
    "\"\"\"Exercise Question 1: Print First 10 natural numbers using while loop\"\"\"\n",
    "i=0\n",
    "while i<=10:\n",
    "    print(i)\n",
    "    i=i+1\n",
    "   "
   ]
  },
  {
   "cell_type": "code",
   "execution_count": 21,
   "metadata": {},
   "outputs": [
    {
     "name": "stdout",
     "output_type": "stream",
     "text": [
      "1 \n",
      "1 2 \n",
      "1 2 3 \n",
      "1 2 3 4 \n",
      "1 2 3 4 5 \n"
     ]
    }
   ],
   "source": [
    "\"\"\"Exercise Question 2: Print the following pattern\n",
    "1 \n",
    "1 2 \n",
    "1 2 3 \n",
    "1 2 3 4 \n",
    "1 2 3 4 5\n",
    "\n",
    "\"\"\"\n",
    "\n",
    "for i in range(1,6):\n",
    "    for j in range(1,i+1):\n",
    "        print(j,end=' ')\n",
    "    print('')"
   ]
  },
  {
   "cell_type": "code",
   "execution_count": 23,
   "metadata": {},
   "outputs": [
    {
     "name": "stdout",
     "output_type": "stream",
     "text": [
      "enter the number5\n",
      "10\n"
     ]
    }
   ],
   "source": [
    "\"\"\"Exercise Question 3: Accept number from user and calculate the sum of all number between 1 and given number\"\"\"\n",
    "\n",
    "n=int(input('enter the number'))\n",
    "\n",
    "sum=0\n",
    "for i in range(0,n):\n",
    "    sum=sum+i\n",
    "print(sum)"
   ]
  },
  {
   "cell_type": "code",
   "execution_count": 25,
   "metadata": {},
   "outputs": [
    {
     "name": "stdout",
     "output_type": "stream",
     "text": [
      "enter the number:2\n",
      "2 * 0 = 0\n",
      "2 * 1 = 2\n",
      "2 * 2 = 4\n",
      "2 * 3 = 6\n",
      "2 * 4 = 8\n",
      "2 * 5 = 10\n",
      "2 * 6 = 12\n",
      "2 * 7 = 14\n",
      "2 * 8 = 16\n",
      "2 * 9 = 18\n",
      "2 * 10 = 20\n"
     ]
    }
   ],
   "source": [
    "\"\"\"Exercise Question 4: Print multiplication table of given number\"\"\"\n",
    "num=int(input('enter the number:'))\n",
    "for i in range(0,11):\n",
    "    val=num*i\n",
    "    print(num,'*',i,'=',val)"
   ]
  },
  {
   "cell_type": "code",
   "execution_count": 35,
   "metadata": {},
   "outputs": [
    {
     "name": "stdout",
     "output_type": "stream",
     "text": [
      "enter the number:5000\n",
      "0 5 10 15 20 25 30 35 40 45 50 55 60 65 70 75 80 85 90 95 100 105 110 115 120 125 130 135 140 145 "
     ]
    }
   ],
   "source": [
    "\"\"\"Exercise Question 5: Given a list iterate it and display numbers which are divisible by 5 and \n",
    "if you find number greater than 150 stop the loop iteration\"\"\"\n",
    "\n",
    "li=[]\n",
    "n=int(input('enter the number:'))\n",
    "for i in range(0,n):\n",
    "    if i%5==0:\n",
    "        li.append(i)\n",
    "for item in li:\n",
    "    if item>150:\n",
    "        break\n",
    "    elif item<150:\n",
    "        print(item,end=' ')\n",
    "        "
   ]
  },
  {
   "cell_type": "code",
   "execution_count": 37,
   "metadata": {},
   "outputs": [
    {
     "name": "stdout",
     "output_type": "stream",
     "text": [
      "enter the number:75869\n",
      "total numbers 329\n"
     ]
    }
   ],
   "source": [
    "\"\"\"Exercise Question 6: Given a number count the total number of digits in a number\"\"\"\n",
    "\n",
    "num=int(input('enter the number:'))\n",
    "count=0\n",
    "\n",
    "while num !=0:\n",
    "    num=num/10\n",
    "    count+=1\n",
    "print('total numbers',count)"
   ]
  },
  {
   "cell_type": "code",
   "execution_count": null,
   "metadata": {},
   "outputs": [],
   "source": []
  }
 ],
 "metadata": {
  "kernelspec": {
   "display_name": "Python 3",
   "language": "python",
   "name": "python3"
  },
  "language_info": {
   "codemirror_mode": {
    "name": "ipython",
    "version": 3
   },
   "file_extension": ".py",
   "mimetype": "text/x-python",
   "name": "python",
   "nbconvert_exporter": "python",
   "pygments_lexer": "ipython3",
   "version": "3.7.4"
  }
 },
 "nbformat": 4,
 "nbformat_minor": 2
}
