{
 "cells": [
  {
   "cell_type": "code",
   "execution_count": 1,
   "metadata": {},
   "outputs": [
    {
     "name": "stdout",
     "output_type": "stream",
     "text": [
      "b is greater than a\n"
     ]
    }
   ],
   "source": [
    "#Write a function that returns the maximum of two numbers.\n",
    "\n",
    "def Max(a,b):\n",
    "    if a>b:\n",
    "        print('a is greater than b')\n",
    "    else:\n",
    "        print('b is greater than a')\n",
    "\n",
    "Max(10,20)"
   ]
  },
  {
   "cell_type": "code",
   "execution_count": 2,
   "metadata": {},
   "outputs": [
    {
     "name": "stdout",
     "output_type": "stream",
     "text": [
      "enter number2\n",
      "2\n"
     ]
    }
   ],
   "source": [
    "\"\"\"Write a function called fizz_buzz that takes a number.\n",
    "If the number is divisible by 3, it should return “Fizz”.\n",
    "If it is divisible by 5, it should return “Buzz”.\n",
    "If it is divisible by both 3 and 5, it should return “FizzBuzz”.\n",
    "Otherwise, it should return the same number.\"\"\"\n",
    "\n",
    "def fizz_buzz(num):\n",
    "    if (num%3==0) and (num%5==0):\n",
    "        print('FizzBuzz')\n",
    "    elif num%5==0:\n",
    "        print('Buzz')\n",
    "    elif(num%3==0):\n",
    "        print('Fizz')\n",
    "    else:\n",
    "        print(num)\n",
    "fizz_buzz(num=int(input('enter number')))"
   ]
  },
  {
   "cell_type": "code",
   "execution_count": 3,
   "metadata": {},
   "outputs": [
    {
     "name": "stdout",
     "output_type": "stream",
     "text": [
      "enter speed:200\n",
      "points: 26.0\n",
      "License suspended\n"
     ]
    }
   ],
   "source": [
    "\"\"\"Write a function for checking the speed of drivers. This function should have one parameter: speed.\n",
    "If speed is less than 70, it should print “Ok”.\n",
    "\n",
    "Otherwise, for every 5km above the speed limit (70), it should give the driver one demerit point and print the total number of demerit points. \n",
    "For example, if the speed is 80, it should print: “Points: 2”.\n",
    "\n",
    "If the driver gets more than 12 points, the function should print: “License suspended” \"\"\"\n",
    "\n",
    "def Speed_of_driver(speed):\n",
    "    if (speed<70):\n",
    "        print('OK')\n",
    "    elif(speed>70 and speed%5==0):\n",
    "        d=0\n",
    "        d+=((speed-75)/5+1)\n",
    "        print('points:',d)\n",
    "        if(d>12):\n",
    "            print('License suspended')\n",
    "    \n",
    "Speed_of_driver(speed=int(input('enter speed:')))    \n"
   ]
  },
  {
   "cell_type": "code",
   "execution_count": 4,
   "metadata": {},
   "outputs": [
    {
     "name": "stdout",
     "output_type": "stream",
     "text": [
      "enter input value10\n",
      "0 even\n",
      "1 odd\n",
      "2 even\n",
      "3 odd\n",
      "4 even\n",
      "5 odd\n",
      "6 even\n",
      "7 odd\n",
      "8 even\n",
      "9 odd\n"
     ]
    }
   ],
   "source": [
    "\"\"\"Write a function called showNumbers that takes a parameter called limit. \n",
    "It should print all the numbers between 0 and limit with a label to identify the even and odd numbers. \n",
    "For example, if the limit is 3, it should print:\n",
    "0 EVEN\n",
    "1 ODD\n",
    "2 EVEN\n",
    "3 ODD\"\"\"\n",
    "\n",
    "def showNumbers(limit):\n",
    "    for i in range(0,limit):\n",
    "        if (i%2==0):\n",
    "            print(i,'even')\n",
    "        else:\n",
    "            print(i,'odd')\n",
    "        \n",
    "showNumbers(limit=int(input('enter input value')))"
   ]
  },
  {
   "cell_type": "code",
   "execution_count": 7,
   "metadata": {},
   "outputs": [
    {
     "name": "stdout",
     "output_type": "stream",
     "text": [
      "enter the value20\n",
      "0 3 5 6 9 10 12 15 18 20 "
     ]
    }
   ],
   "source": [
    "\"\"\"Write a function that returns the sum of multiples of 3 and 5 between 0 and limit (parameter).\n",
    "For example, if limit is 20, \n",
    "it should return the sum of 3, 5, 6, 9, 10, 12, 15, 18, 20\"\"\"\n",
    "\n",
    "def Function(limit):\n",
    "    for i in range(limit+1):\n",
    "        sum=0\n",
    "        if(i%3==0 or i%5==0):\n",
    "            sum+=i\n",
    "            print(sum,end=' ')\n",
    "Function(limit=int(input('enter the value')))\n"
   ]
  },
  {
   "cell_type": "code",
   "execution_count": 8,
   "metadata": {},
   "outputs": [
    {
     "name": "stdout",
     "output_type": "stream",
     "text": [
      "*\n",
      "**\n",
      "***\n",
      "****\n",
      "*****\n"
     ]
    }
   ],
   "source": [
    "\"\"\"Write a function called show_stars(rows). If rows is 5, it should print the following:\n",
    "*\n",
    "**\n",
    "***\n",
    "****\n",
    "*****\"\"\"\n",
    "\n",
    "def show_stars(rows):\n",
    "    for i in range(0,rows):\n",
    "         print('*'*(i+1))\n",
    "show_stars(5)"
   ]
  },
  {
   "cell_type": "code",
   "execution_count": 9,
   "metadata": {},
   "outputs": [
    {
     "name": "stdout",
     "output_type": "stream",
     "text": [
      "15\n",
      "limit is prime\n"
     ]
    }
   ],
   "source": [
    "#Write a function that prints all the prime numbers between 0 and limit where limit is a parameter\n",
    "\n",
    "def Prime(limit):\n",
    "    for i in range(2,limit+1):\n",
    "        if(limit%i==0):\n",
    "            print('limit is not prime')\n",
    "            break\n",
    "        else:\n",
    "            print('limit is prime')\n",
    "            break\n",
    "Prime(limit=int(input()))"
   ]
  }
 ],
 "metadata": {
  "kernelspec": {
   "display_name": "Python 3",
   "language": "python",
   "name": "python3"
  },
  "language_info": {
   "codemirror_mode": {
    "name": "ipython",
    "version": 3
   },
   "file_extension": ".py",
   "mimetype": "text/x-python",
   "name": "python",
   "nbconvert_exporter": "python",
   "pygments_lexer": "ipython3",
   "version": "3.7.4"
  }
 },
 "nbformat": 4,
 "nbformat_minor": 2
}
