{
 "cells": [
  {
   "cell_type": "code",
   "execution_count": 1,
   "metadata": {},
   "outputs": [],
   "source": [
    "import pymongo\n",
    "client=pymongo.MongoClient(\"mongodb://localhost:27017/\")\n",
    "mydb=client['Company']"
   ]
  },
  {
   "cell_type": "code",
   "execution_count": 11,
   "metadata": {},
   "outputs": [
    {
     "data": {
      "text/plain": [
       "['Company', 'admin', 'config', 'local']"
      ]
     },
     "execution_count": 11,
     "metadata": {},
     "output_type": "execute_result"
    }
   ],
   "source": [
    "infodatabases = client.list_database_names()\n",
    "infodatabases"
   ]
  },
  {
   "cell_type": "code",
   "execution_count": 14,
   "metadata": {},
   "outputs": [
    {
     "name": "stdout",
     "output_type": "stream",
     "text": [
      "database exist\n"
     ]
    }
   ],
   "source": [
    "if 'Company' in infodatabases:\n",
    "    print('database exist')"
   ]
  },
  {
   "cell_type": "code",
   "execution_count": 15,
   "metadata": {},
   "outputs": [],
   "source": [
    "mycol=mydb['Customers']"
   ]
  },
  {
   "cell_type": "code",
   "execution_count": 16,
   "metadata": {},
   "outputs": [
    {
     "data": {
      "text/plain": [
       "['Employee_info']"
      ]
     },
     "execution_count": 16,
     "metadata": {},
     "output_type": "execute_result"
    }
   ],
   "source": [
    "collist=mydb.list_collection_names()\n",
    "collist"
   ]
  },
  {
   "cell_type": "code",
   "execution_count": 17,
   "metadata": {},
   "outputs": [
    {
     "name": "stdout",
     "output_type": "stream",
     "text": [
      "collection exist\n"
     ]
    }
   ],
   "source": [
    "if 'Employee_info' in collist:\n",
    "    print('collection exist')"
   ]
  },
  {
   "cell_type": "code",
   "execution_count": 20,
   "metadata": {},
   "outputs": [],
   "source": [
    "mydict={'first name':'david','last name':'warner','department':'cricket'}"
   ]
  },
  {
   "cell_type": "code",
   "execution_count": 25,
   "metadata": {},
   "outputs": [],
   "source": [
    "X=mycol.insert_one(mydict)"
   ]
  },
  {
   "cell_type": "code",
   "execution_count": 27,
   "metadata": {},
   "outputs": [],
   "source": [
    "mylist = [\n",
    "  { \"first name\": \"Amy\", \"last name\": \"Apple\",\"department\":\"tester\"},\n",
    "  { \"first name\": \"Hannah\", \"last name\": \"Mountain\",\"department\":\"tester\"},\n",
    "  { \"first name\": \"Michael\", \"last name\": \"Valley\",\"department\":\"tester\"},\n",
    "  { \"first name\": \"Sandy\", \"last name\": \"Ocean blvd\",\"department\":\"tester\"},\n",
    "  { \"first name\": \"Betty\", \"last name\": \"Green Grass \",\"department\":\"tester\"},\n",
    "  { \"first name\": \"Richard\", \"last name\": \"Sky st \",\"department\":\"tester\"},\n",
    "  { \"first name\": \"Susan\", \"last name\": \"One way\",\"department\":\"tester\"},\n",
    "  { \"first name\": \"Vicky\", \"last name\": \"Yellow Garden \",\"department\":\"tester\"},\n",
    "  { \"first name\": \"Ben\", \"last name\": \"Park Lane\",\"department\":\"tester\"},\n",
    "  { \"first name\": \"William\", \"last name\": \"Central\",\"department\":\"tester\"},\n",
    "  { \"first name\": \"Chuck\", \"last name\": \"Main Road\",\"department\":\"tester\"},\n",
    "  { \"first name\": \"Viola\", \"last name\": \"Sideway\",\"department\":\"tester\"}\n",
    "]"
   ]
  },
  {
   "cell_type": "code",
   "execution_count": 28,
   "metadata": {},
   "outputs": [],
   "source": [
    "y=mycol.insert_many(mylist)"
   ]
  },
  {
   "cell_type": "code",
   "execution_count": 31,
   "metadata": {},
   "outputs": [
    {
     "data": {
      "text/plain": [
       "{'_id': ObjectId('5f6960f922b14e74d94584ce'),\n",
       " 'first name': 'david',\n",
       " 'last name': 'warner',\n",
       " 'department': 'cricket'}"
      ]
     },
     "execution_count": 31,
     "metadata": {},
     "output_type": "execute_result"
    }
   ],
   "source": [
    "mycol.find_one()"
   ]
  },
  {
   "cell_type": "code",
   "execution_count": 36,
   "metadata": {},
   "outputs": [
    {
     "name": "stdout",
     "output_type": "stream",
     "text": [
      "{'_id': ObjectId('5f6960f922b14e74d94584ce'), 'first name': 'david', 'last name': 'warner', 'department': 'cricket'}\n",
      "{'_id': ObjectId('5f69639622b14e74d94584cf'), 'first name': 'Amy', 'last name': 'Apple', 'department': 'tester'}\n",
      "{'_id': ObjectId('5f69639622b14e74d94584d0'), 'first name': 'Hannah', 'last name': 'Mountain', 'department': 'tester'}\n",
      "{'_id': ObjectId('5f69639622b14e74d94584d1'), 'first name': 'Michael', 'last name': 'Valley', 'department': 'tester'}\n",
      "{'_id': ObjectId('5f69639622b14e74d94584d2'), 'first name': 'Sandy', 'last name': 'Ocean blvd', 'department': 'tester'}\n",
      "{'_id': ObjectId('5f69639622b14e74d94584d3'), 'first name': 'Betty', 'last name': 'Green Grass ', 'department': 'tester'}\n",
      "{'_id': ObjectId('5f69639622b14e74d94584d4'), 'first name': 'Richard', 'last name': 'Sky st ', 'department': 'tester'}\n",
      "{'_id': ObjectId('5f69639622b14e74d94584d5'), 'first name': 'Susan', 'last name': 'One way', 'department': 'tester'}\n",
      "{'_id': ObjectId('5f69639622b14e74d94584d6'), 'first name': 'Vicky', 'last name': 'Yellow Garden ', 'department': 'tester'}\n",
      "{'_id': ObjectId('5f69639622b14e74d94584d7'), 'first name': 'Ben', 'last name': 'Park Lane', 'department': 'tester'}\n",
      "{'_id': ObjectId('5f69639622b14e74d94584d8'), 'first name': 'William', 'last name': 'Central', 'department': 'tester'}\n",
      "{'_id': ObjectId('5f69639622b14e74d94584d9'), 'first name': 'Chuck', 'last name': 'Main Road', 'department': 'tester'}\n",
      "{'_id': ObjectId('5f69639622b14e74d94584da'), 'first name': 'Viola', 'last name': 'Sideway', 'department': 'tester'}\n"
     ]
    }
   ],
   "source": [
    "for x in mycol.find():\n",
    "    print(x)"
   ]
  },
  {
   "cell_type": "code",
   "execution_count": 45,
   "metadata": {},
   "outputs": [
    {
     "name": "stdout",
     "output_type": "stream",
     "text": [
      "{'_id': ObjectId('5f69639622b14e74d94584d3'), 'first name': 'Betty', 'last name': 'Green Grass ', 'department': 'tester'}\n"
     ]
    }
   ],
   "source": [
    "myquery = { \"first name\": \"Betty\" }\n",
    "\n",
    "mydoc = mycol.find(myquery)\n",
    "\n",
    "for x in mydoc:\n",
    "    print(x)"
   ]
  },
  {
   "cell_type": "code",
   "execution_count": 46,
   "metadata": {},
   "outputs": [
    {
     "name": "stdout",
     "output_type": "stream",
     "text": [
      "{'_id': ObjectId('5f6960f922b14e74d94584ce'), 'first name': 'david', 'last name': 'warner', 'department': 'cricket'}\n",
      "{'_id': ObjectId('5f69639622b14e74d94584d6'), 'first name': 'Vicky', 'last name': 'Yellow Garden ', 'department': 'tester'}\n",
      "{'_id': ObjectId('5f69639622b14e74d94584d8'), 'first name': 'William', 'last name': 'Central', 'department': 'tester'}\n",
      "{'_id': ObjectId('5f69639622b14e74d94584da'), 'first name': 'Viola', 'last name': 'Sideway', 'department': 'tester'}\n"
     ]
    }
   ],
   "source": [
    "myquery = { \"first name\":{\"$gt\":\"V\"}}\n",
    "\n",
    "mydoc = mycol.find(myquery)\n",
    "\n",
    "for x in mydoc:\n",
    "    print(x)"
   ]
  },
  {
   "cell_type": "code",
   "execution_count": 47,
   "metadata": {},
   "outputs": [
    {
     "name": "stdout",
     "output_type": "stream",
     "text": [
      "{'_id': ObjectId('5f69639622b14e74d94584d4'), 'first name': 'Richard', 'last name': 'Sky st ', 'department': 'tester'}\n",
      "{'_id': ObjectId('5f69639622b14e74d94584da'), 'first name': 'Viola', 'last name': 'Sideway', 'department': 'tester'}\n"
     ]
    }
   ],
   "source": [
    "myquery = { \"last name\":{\"$regex\": \"^S\"}}\n",
    "\n",
    "mydoc = mycol.find(myquery)\n",
    "\n",
    "for x in mydoc:\n",
    "    print(x)"
   ]
  },
  {
   "cell_type": "code",
   "execution_count": 52,
   "metadata": {},
   "outputs": [
    {
     "name": "stdout",
     "output_type": "stream",
     "text": [
      "{'_id': ObjectId('5f69639622b14e74d94584d6'), 'first name': 'Vicky', 'last name': 'Yellow Garden ', 'department': 'tester'}\n"
     ]
    }
   ],
   "source": [
    "myquery = { \"last name\":{\"$regex\": \"^Y\"}}\n",
    "\n",
    "mydoc = mycol.find(myquery)\n",
    "\n",
    "for x in mydoc:\n",
    "    print(x)"
   ]
  },
  {
   "cell_type": "code",
   "execution_count": 56,
   "metadata": {},
   "outputs": [
    {
     "name": "stdout",
     "output_type": "stream",
     "text": [
      "{'_id': ObjectId('5f69639622b14e74d94584cf'), 'first name': 'Amy', 'last name': 'Apple', 'department': 'tester'}\n",
      "{'_id': ObjectId('5f69639622b14e74d94584d7'), 'first name': 'Ben', 'last name': 'Park Lane', 'department': 'tester'}\n",
      "{'_id': ObjectId('5f69639622b14e74d94584d3'), 'first name': 'Betty', 'last name': 'Green Grass ', 'department': 'tester'}\n",
      "{'_id': ObjectId('5f69639622b14e74d94584d9'), 'first name': 'Chuck', 'last name': 'Main Road', 'department': 'tester'}\n",
      "{'_id': ObjectId('5f69639622b14e74d94584d0'), 'first name': 'Hannah', 'last name': 'Mountain', 'department': 'tester'}\n",
      "{'_id': ObjectId('5f69639622b14e74d94584d1'), 'first name': 'Michael', 'last name': 'Valley', 'department': 'tester'}\n",
      "{'_id': ObjectId('5f69639622b14e74d94584d4'), 'first name': 'Richard', 'last name': 'Sky st ', 'department': 'tester'}\n",
      "{'_id': ObjectId('5f69639622b14e74d94584d2'), 'first name': 'Sandy', 'last name': 'Ocean blvd', 'department': 'tester'}\n",
      "{'_id': ObjectId('5f69639622b14e74d94584d5'), 'first name': 'Susan', 'last name': 'One way', 'department': 'tester'}\n",
      "{'_id': ObjectId('5f69639622b14e74d94584d6'), 'first name': 'Vicky', 'last name': 'Yellow Garden ', 'department': 'tester'}\n",
      "{'_id': ObjectId('5f69639622b14e74d94584da'), 'first name': 'Viola', 'last name': 'Sideway', 'department': 'tester'}\n",
      "{'_id': ObjectId('5f69639622b14e74d94584d8'), 'first name': 'William', 'last name': 'Central', 'department': 'tester'}\n",
      "{'_id': ObjectId('5f6960f922b14e74d94584ce'), 'first name': 'david', 'last name': 'warner', 'department': 'cricket'}\n"
     ]
    }
   ],
   "source": [
    "mydoc = mycol.find().sort(\"first name\",1)\n",
    "\n",
    "for x in mydoc:\n",
    "    print(x)\n"
   ]
  },
  {
   "cell_type": "code",
   "execution_count": 57,
   "metadata": {},
   "outputs": [
    {
     "name": "stdout",
     "output_type": "stream",
     "text": [
      "{'_id': ObjectId('5f6960f922b14e74d94584ce'), 'first name': 'david', 'last name': 'warner', 'department': 'cricket'}\n",
      "{'_id': ObjectId('5f69639622b14e74d94584d8'), 'first name': 'William', 'last name': 'Central', 'department': 'tester'}\n",
      "{'_id': ObjectId('5f69639622b14e74d94584da'), 'first name': 'Viola', 'last name': 'Sideway', 'department': 'tester'}\n",
      "{'_id': ObjectId('5f69639622b14e74d94584d6'), 'first name': 'Vicky', 'last name': 'Yellow Garden ', 'department': 'tester'}\n",
      "{'_id': ObjectId('5f69639622b14e74d94584d5'), 'first name': 'Susan', 'last name': 'One way', 'department': 'tester'}\n",
      "{'_id': ObjectId('5f69639622b14e74d94584d2'), 'first name': 'Sandy', 'last name': 'Ocean blvd', 'department': 'tester'}\n",
      "{'_id': ObjectId('5f69639622b14e74d94584d4'), 'first name': 'Richard', 'last name': 'Sky st ', 'department': 'tester'}\n",
      "{'_id': ObjectId('5f69639622b14e74d94584d1'), 'first name': 'Michael', 'last name': 'Valley', 'department': 'tester'}\n",
      "{'_id': ObjectId('5f69639622b14e74d94584d0'), 'first name': 'Hannah', 'last name': 'Mountain', 'department': 'tester'}\n",
      "{'_id': ObjectId('5f69639622b14e74d94584d9'), 'first name': 'Chuck', 'last name': 'Main Road', 'department': 'tester'}\n",
      "{'_id': ObjectId('5f69639622b14e74d94584d3'), 'first name': 'Betty', 'last name': 'Green Grass ', 'department': 'tester'}\n",
      "{'_id': ObjectId('5f69639622b14e74d94584d7'), 'first name': 'Ben', 'last name': 'Park Lane', 'department': 'tester'}\n",
      "{'_id': ObjectId('5f69639622b14e74d94584cf'), 'first name': 'Amy', 'last name': 'Apple', 'department': 'tester'}\n"
     ]
    }
   ],
   "source": [
    "mydoc = mycol.find().sort(\"first name\",-1)\n",
    "\n",
    "for x in mydoc:\n",
    "    print(x)\n"
   ]
  },
  {
   "cell_type": "code",
   "execution_count": 58,
   "metadata": {},
   "outputs": [
    {
     "data": {
      "text/plain": [
       "<pymongo.results.UpdateResult at 0x2493a028648>"
      ]
     },
     "execution_count": 58,
     "metadata": {},
     "output_type": "execute_result"
    }
   ],
   "source": [
    "myquery={'first name':'david'}\n",
    "newvalues={\"$set\":{'first name':'kane'}}\n",
    "mycol.update_one(myquery,newvalues)"
   ]
  },
  {
   "cell_type": "code",
   "execution_count": 59,
   "metadata": {},
   "outputs": [
    {
     "name": "stdout",
     "output_type": "stream",
     "text": [
      "{'_id': ObjectId('5f6960f922b14e74d94584ce'), 'first name': 'kane', 'last name': 'warner', 'department': 'cricket'}\n",
      "{'_id': ObjectId('5f69639622b14e74d94584d8'), 'first name': 'William', 'last name': 'Central', 'department': 'tester'}\n",
      "{'_id': ObjectId('5f69639622b14e74d94584da'), 'first name': 'Viola', 'last name': 'Sideway', 'department': 'tester'}\n",
      "{'_id': ObjectId('5f69639622b14e74d94584d6'), 'first name': 'Vicky', 'last name': 'Yellow Garden ', 'department': 'tester'}\n",
      "{'_id': ObjectId('5f69639622b14e74d94584d5'), 'first name': 'Susan', 'last name': 'One way', 'department': 'tester'}\n",
      "{'_id': ObjectId('5f69639622b14e74d94584d2'), 'first name': 'Sandy', 'last name': 'Ocean blvd', 'department': 'tester'}\n",
      "{'_id': ObjectId('5f69639622b14e74d94584d4'), 'first name': 'Richard', 'last name': 'Sky st ', 'department': 'tester'}\n",
      "{'_id': ObjectId('5f69639622b14e74d94584d1'), 'first name': 'Michael', 'last name': 'Valley', 'department': 'tester'}\n",
      "{'_id': ObjectId('5f69639622b14e74d94584d0'), 'first name': 'Hannah', 'last name': 'Mountain', 'department': 'tester'}\n",
      "{'_id': ObjectId('5f69639622b14e74d94584d9'), 'first name': 'Chuck', 'last name': 'Main Road', 'department': 'tester'}\n",
      "{'_id': ObjectId('5f69639622b14e74d94584d3'), 'first name': 'Betty', 'last name': 'Green Grass ', 'department': 'tester'}\n",
      "{'_id': ObjectId('5f69639622b14e74d94584d7'), 'first name': 'Ben', 'last name': 'Park Lane', 'department': 'tester'}\n",
      "{'_id': ObjectId('5f69639622b14e74d94584cf'), 'first name': 'Amy', 'last name': 'Apple', 'department': 'tester'}\n"
     ]
    }
   ],
   "source": [
    "mydoc = mycol.find().sort(\"first name\",-1)\n",
    "\n",
    "for x in mydoc:\n",
    "    print(x)\n"
   ]
  },
  {
   "cell_type": "code",
   "execution_count": 63,
   "metadata": {},
   "outputs": [
    {
     "name": "stdout",
     "output_type": "stream",
     "text": [
      "2 documents updated.\n"
     ]
    }
   ],
   "source": [
    "myquery = { \"first name\": { \"$regex\": \"^S\" } }\n",
    "newvalues = { \"$set\": { \"first name\": \"Amy\" } }\n",
    "\n",
    "x = mycol.update_many(myquery, newvalues)\n",
    "\n",
    "print(x.modified_count, \"documents updated.\")"
   ]
  },
  {
   "cell_type": "code",
   "execution_count": 64,
   "metadata": {},
   "outputs": [
    {
     "name": "stdout",
     "output_type": "stream",
     "text": [
      "{'_id': ObjectId('5f6960f922b14e74d94584ce'), 'first name': 'kane', 'last name': 'warner', 'department': 'cricket'}\n",
      "{'_id': ObjectId('5f69639622b14e74d94584d8'), 'first name': 'William', 'last name': 'Central', 'department': 'tester'}\n",
      "{'_id': ObjectId('5f69639622b14e74d94584da'), 'first name': 'Viola', 'last name': 'Sideway', 'department': 'tester'}\n",
      "{'_id': ObjectId('5f69639622b14e74d94584d6'), 'first name': 'Vicky', 'last name': 'Yellow Garden ', 'department': 'tester'}\n",
      "{'_id': ObjectId('5f69639622b14e74d94584d4'), 'first name': 'Richard', 'last name': 'Sky st ', 'department': 'tester'}\n",
      "{'_id': ObjectId('5f69639622b14e74d94584d1'), 'first name': 'Michael', 'last name': 'Valley', 'department': 'tester'}\n",
      "{'_id': ObjectId('5f69639622b14e74d94584d0'), 'first name': 'Hannah', 'last name': 'Mountain', 'department': 'tester'}\n",
      "{'_id': ObjectId('5f69639622b14e74d94584d9'), 'first name': 'Chuck', 'last name': 'Main Road', 'department': 'tester'}\n",
      "{'_id': ObjectId('5f69639622b14e74d94584d3'), 'first name': 'Betty', 'last name': 'Green Grass ', 'department': 'tester'}\n",
      "{'_id': ObjectId('5f69639622b14e74d94584d7'), 'first name': 'Ben', 'last name': 'Park Lane', 'department': 'tester'}\n",
      "{'_id': ObjectId('5f69639622b14e74d94584cf'), 'first name': 'Amy', 'last name': 'Apple', 'department': 'tester'}\n",
      "{'_id': ObjectId('5f69639622b14e74d94584d2'), 'first name': 'Amy', 'last name': 'Ocean blvd', 'department': 'tester', 'name': 'Amy'}\n",
      "{'_id': ObjectId('5f69639622b14e74d94584d5'), 'first name': 'Amy', 'last name': 'One way', 'department': 'tester', 'name': 'Amy'}\n"
     ]
    }
   ],
   "source": [
    "mydoc = mycol.find().sort(\"first name\",-1)\n",
    "\n",
    "for x in mydoc:\n",
    "    print(x)\n"
   ]
  },
  {
   "cell_type": "code",
   "execution_count": 69,
   "metadata": {},
   "outputs": [
    {
     "name": "stdout",
     "output_type": "stream",
     "text": [
      "0\n"
     ]
    }
   ],
   "source": [
    "myquery = {\"first name\":\"Amy\"}\n",
    "x= mycol.delete_one(myquery)\n",
    "\n",
    "print(x.deleted_count)"
   ]
  },
  {
   "cell_type": "code",
   "execution_count": 75,
   "metadata": {},
   "outputs": [
    {
     "name": "stdout",
     "output_type": "stream",
     "text": [
      "1\n"
     ]
    }
   ],
   "source": [
    "myquery = {\"first name\":\"Vicky\"}\n",
    "x= mycol.delete_one(myquery)\n",
    "\n",
    "print(x.deleted_count)"
   ]
  },
  {
   "cell_type": "code",
   "execution_count": 76,
   "metadata": {},
   "outputs": [
    {
     "name": "stdout",
     "output_type": "stream",
     "text": [
      "7  documents deleted.\n"
     ]
    }
   ],
   "source": [
    "myquery = { \"first name\": {\"$regex\": \"^B\"} }\n",
    "\n",
    "x = mycol.delete_many({})\n",
    "\n",
    "print(x.deleted_count, \" documents deleted.\")"
   ]
  },
  {
   "cell_type": "code",
   "execution_count": 78,
   "metadata": {},
   "outputs": [],
   "source": [
    "mycol.drop()"
   ]
  },
  {
   "cell_type": "code",
   "execution_count": 79,
   "metadata": {},
   "outputs": [],
   "source": [
    "mycol = mydb[\"Employee_info\"]"
   ]
  },
  {
   "cell_type": "code",
   "execution_count": 80,
   "metadata": {},
   "outputs": [
    {
     "name": "stdout",
     "output_type": "stream",
     "text": [
      "{'_id': ObjectId('5f683d7c07f636db29e04420'), 'firstname': 'Lakshmi', 'Lastname': 'priya', 'department': 'Analytics'}\n",
      "{'_id': ObjectId('5f683d7c07f636db29e04421'), 'firstname': 'Prasanth', 'Lastname': 'John', 'department': 'Network'}\n",
      "{'_id': ObjectId('5f683d7c07f636db29e04422'), 'firstname': 'Prasad', 'Lastname': 'park', 'department': 'developer'}\n",
      "{'_id': ObjectId('5f683d7c07f636db29e04423'), 'firstname': 'jyothi', 'Lastname': 'flynn', 'department': 'tester'}\n"
     ]
    }
   ],
   "source": [
    "\n",
    "\n",
    "myresult = mycol.find().limit(5)\n",
    "\n",
    "#print the result:\n",
    "for x in myresult:\n",
    "    print(x)"
   ]
  },
  {
   "cell_type": "code",
   "execution_count": 81,
   "metadata": {},
   "outputs": [],
   "source": [
    "mycol.drop()"
   ]
  }
 ],
 "metadata": {
  "kernelspec": {
   "display_name": "Python 3",
   "language": "python",
   "name": "python3"
  },
  "language_info": {
   "codemirror_mode": {
    "name": "ipython",
    "version": 3
   },
   "file_extension": ".py",
   "mimetype": "text/x-python",
   "name": "python",
   "nbconvert_exporter": "python",
   "pygments_lexer": "ipython3",
   "version": "3.7.4"
  }
 },
 "nbformat": 4,
 "nbformat_minor": 2
}
