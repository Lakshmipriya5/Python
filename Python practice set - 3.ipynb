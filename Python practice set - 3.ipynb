{
 "cells": [
  {
   "cell_type": "code",
   "execution_count": 2,
   "metadata": {},
   "outputs": [
    {
     "name": "stdout",
     "output_type": "stream",
     "text": [
      "UP 5 DOWN 3 LEFT 3 RIGHT 2\n",
      "\n",
      "5\n"
     ]
    }
   ],
   "source": [
    "\"\"\"Question A robot moves in a plane starting from the original point (0,0). \n",
    "The robot can move toward UP, DOWN, LEFT and RIGHT with a given steps. \n",
    "The trace of robot movement is shown as the following: UP 5 DOWN 3 LEFT 3 RIGHT 2 ¡­ \n",
    "The numbers after the direction are steps. \n",
    "Please write a program to compute the distance from current position after a sequence of movement and original point. \n",
    "If the distance is a float, then just print the nearest integer. \n",
    "Example: If the following tuples are given as input to the program: \n",
    "UP 5 DOWN 3 LEFT 3 RIGHT 2 Then, the output of the program should be: 2\"\"\"\n",
    "\n",
    "import math\n",
    "pos = [0,0]\n",
    "while True:\n",
    "    s = input()\n",
    "    if not s:\n",
    "        break\n",
    "    movement = s.split(\" \")\n",
    "    direction = movement[0]\n",
    "    steps = int(movement[1])\n",
    "    if direction==\"UP\":\n",
    "        pos[0]+=steps\n",
    "    elif direction==\"DOWN\":\n",
    "        pos[0]-=steps\n",
    "    elif direction==\"LEFT\":\n",
    "        pos[1]-=steps\n",
    "    elif direction==\"RIGHT\":\n",
    "        pos[1]+=steps\n",
    "    else:\n",
    "        pass\n",
    "\n",
    "print(int(round(math.sqrt(pos[1]**2+pos[0]**2))))"
   ]
  },
  {
   "cell_type": "code",
   "execution_count": 1,
   "metadata": {},
   "outputs": [
    {
     "name": "stdout",
     "output_type": "stream",
     "text": [
      "New to Python or choosing between Python 2 and Python 3? Read Python 2 or Python 3\n",
      "New:1\n",
      "to:1\n",
      "Python:5\n",
      "or:2\n",
      "choosing:1\n",
      "between:1\n",
      "2:2\n",
      "and:1\n",
      "3?:1\n",
      "Read:1\n",
      "3:1\n"
     ]
    }
   ],
   "source": [
    "\"\"\"Question: Write a program to compute the frequency of the words from the input. \n",
    "The output should output after sorting the key alphanumerically.\n",
    "Suppose the following input is supplied to the program: New to Python or choosing between Python 2 and Python 3?\n",
    "Read Python 2 or Python 3. \n",
    "Then, the output should be: 2:2 3.:1 3?:1 New:1 Python:5 Read:1 and:1 between:1 choosing:1 or:2 to:1\"\"\"\n",
    "\n",
    "freq = {}   # frequency of words in text\n",
    "line = input()\n",
    "for word in line.split():\n",
    "    freq[word] = freq.get(word,0)+1\n",
    "\n",
    "words = freq.keys()\n",
    "#words.sort()\n",
    "\n",
    "for w in words:\n",
    "    print(\"%s:%d\" % (w,freq[w]))"
   ]
  },
  {
   "cell_type": "code",
   "execution_count": 5,
   "metadata": {},
   "outputs": [
    {
     "name": "stdout",
     "output_type": "stream",
     "text": [
      "enter the number:12\n"
     ]
    },
    {
     "data": {
      "text/plain": [
       "144"
      ]
     },
     "execution_count": 5,
     "metadata": {},
     "output_type": "execute_result"
    }
   ],
   "source": [
    "\"\"\"Write a method which can calculate square value of number\n",
    "\n",
    "Hints: Using the ** operator\"\"\"\n",
    "\n",
    "def Square(n):\n",
    "    return n**2\n",
    "Square(n=int(input(\"enter the number:\")))"
   ]
  },
  {
   "cell_type": "code",
   "execution_count": 9,
   "metadata": {},
   "outputs": [
    {
     "name": "stdout",
     "output_type": "stream",
     "text": [
      "Return the absolute value of the argument.\n",
      "int([x]) -> integer\n",
      "int(x, base=10) -> integer\n",
      "\n",
      "Convert a number or string to an integer, or return 0 if no arguments\n",
      "are given.  If x is a number, return x.__int__().  For floating point\n",
      "numbers, this truncates towards zero.\n",
      "\n",
      "If x is not a number or if base is given, then x must be a string,\n",
      "bytes, or bytearray instance representing an integer literal in the\n",
      "given base.  The literal can be preceded by '+' or '-' and be surrounded\n",
      "by whitespace.  The base defaults to 10.  Valid bases are 0 and 2-36.\n",
      "Base 0 means to interpret the base from the string as an integer literal.\n",
      ">>> int('0b100', base=0)\n",
      "4\n",
      "Forward raw_input to frontends\n",
      "\n",
      "        Raises\n",
      "        ------\n",
      "        StdinNotImplentedError if active frontend doesn't support stdin.\n",
      "        \n",
      "==================\n",
      "4\n",
      "None\n"
     ]
    }
   ],
   "source": [
    "\"\"\"Python has many built-in functions, and if you do not know how to use it,\n",
    "you can read document online or find some books. But Python has a built-in document function for every built-in functions.\n",
    "\n",
    "Please write a program to print some Python built-in functions documents, such as abs(), int(), raw_input()\n",
    "\n",
    "And add document for your own function Hints: The built-in document method is doc\"\"\"\n",
    "\n",
    "\n",
    "print(abs.__doc__)\n",
    "print(int.__doc__)\n",
    "print(input.__doc__)\n",
    "\n",
    "print(\"==================\")\n",
    "def Square(n):\n",
    "    return n**2\n",
    "print(Square(2))\n",
    "print(Square.__doc__)"
   ]
  },
  {
   "cell_type": "code",
   "execution_count": 12,
   "metadata": {},
   "outputs": [
    {
     "name": "stdout",
     "output_type": "stream",
     "text": [
      "person name is Jeffrey\n",
      "person name is Nico\n"
     ]
    }
   ],
   "source": [
    "\"\"\"Define a class, which have a class parameter and have a same instance parameter.\n",
    "\n",
    "Hints: Define a instance parameter,\n",
    "need add it in init method You can init a object with construct parameter or set the value later\"\"\"\n",
    "\n",
    "class Person:\n",
    "    name='person'\n",
    "    def __init__(self,name= None ):\n",
    "        self.name=name\n",
    "jefferey=Person('Jeffrey')\n",
    "print(\"%s name is %s\" % (Person.name, jefferey.name))\n",
    "\n",
    "nico = Person()\n",
    "nico.name = \"Nico\"\n",
    "print(\"%s name is %s\" % (Person.name, nico.name))"
   ]
  },
  {
   "cell_type": "code",
   "execution_count": 13,
   "metadata": {},
   "outputs": [
    {
     "name": "stdout",
     "output_type": "stream",
     "text": [
      "enter the value:12\n",
      "enter the value:233\n"
     ]
    },
    {
     "data": {
      "text/plain": [
       "245"
      ]
     },
     "execution_count": 13,
     "metadata": {},
     "output_type": "execute_result"
    }
   ],
   "source": [
    "\"\"\"Define a function which can compute the sum of two numbers.\"\"\"\n",
    "num1=int(input('enter the value:'))\n",
    "num2=int(input('enter the value:'))\n",
    "def Sum(num1,num2):\n",
    "    return num1+num2\n",
    "Sum(num1,num2)"
   ]
  },
  {
   "cell_type": "code",
   "execution_count": 20,
   "metadata": {},
   "outputs": [
    {
     "name": "stdout",
     "output_type": "stream",
     "text": [
      "3\n"
     ]
    }
   ],
   "source": [
    "#Define a function that can convert a integer into a string and print it in console.\n",
    "\n",
    "def Number(n):\n",
    "    print(str(n))\n",
    "Number(3)"
   ]
  },
  {
   "cell_type": "code",
   "execution_count": 26,
   "metadata": {},
   "outputs": [
    {
     "name": "stdout",
     "output_type": "stream",
     "text": [
      "12\n",
      "12\n",
      "24\n"
     ]
    }
   ],
   "source": [
    "#Define a function that can receive two integral numbers in string form and compute their sum and then print it in console.\n",
    "num1=input()\n",
    "num2=input()\n",
    "def Receive(num1,num2):\n",
    "    print(int(num1)+int(num2))\n",
    "Receive(num1,num2)"
   ]
  },
  {
   "cell_type": "code",
   "execution_count": 27,
   "metadata": {},
   "outputs": [
    {
     "name": "stdout",
     "output_type": "stream",
     "text": [
      "Lakshmi\n",
      "Priya\n"
     ]
    },
    {
     "data": {
      "text/plain": [
       "'LakshmiPriya'"
      ]
     },
     "execution_count": 27,
     "metadata": {},
     "output_type": "execute_result"
    }
   ],
   "source": [
    "#Define a function that can accept two strings as input and concatenate them and then print it in console.\n",
    "\n",
    "str1=input()\n",
    "str2=input()\n",
    "def Function(str1,str2):\n",
    "    return str1+str2\n",
    "Function(str1,str2)\n",
    "    "
   ]
  },
  {
   "cell_type": "code",
   "execution_count": null,
   "metadata": {},
   "outputs": [],
   "source": [
    "\"\"\"Define a function that can accept two strings as input and print the string with maximum length in console.\n",
    "If two strings have the same length, then the function should print al l strings line by line.\"\"\"\n",
    "\n",
    "\n"
   ]
  }
 ],
 "metadata": {
  "kernelspec": {
   "display_name": "Python 3",
   "language": "python",
   "name": "python3"
  },
  "language_info": {
   "codemirror_mode": {
    "name": "ipython",
    "version": 3
   },
   "file_extension": ".py",
   "mimetype": "text/x-python",
   "name": "python",
   "nbconvert_exporter": "python",
   "pygments_lexer": "ipython3",
   "version": "3.7.4"
  }
 },
 "nbformat": 4,
 "nbformat_minor": 2
}
