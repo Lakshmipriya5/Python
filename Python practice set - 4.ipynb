{
 "cells": [
  {
   "cell_type": "code",
   "execution_count": 3,
   "metadata": {},
   "outputs": [
    {
     "name": "stdout",
     "output_type": "stream",
     "text": [
      "Priya\n",
      "Lakshmi\n",
      "string is Lakshmi\n"
     ]
    }
   ],
   "source": [
    "\"\"\"Define a function that can accept two strings as input and print the string with maximum length in console. \n",
    "If two strings have the same length, then the function should print all strings line by line\"\"\"\n",
    "\n",
    "num1=input()\n",
    "num2=input()\n",
    "def Function(num1,num2):\n",
    "    if len(num1)==len(num2):\n",
    "        print('strings are on same length')\n",
    "    elif len(num1)>len(num2):\n",
    "        print('string is:',num1)\n",
    "    elif len(num1)<len(num2):\n",
    "        print('string is',num2)\n",
    "Function(num1,num2)\n",
    "    \n",
    "    \n",
    "    \n"
   ]
  },
  {
   "cell_type": "code",
   "execution_count": 6,
   "metadata": {},
   "outputs": [
    {
     "name": "stdout",
     "output_type": "stream",
     "text": [
      "13\n",
      "it is odd number\n"
     ]
    }
   ],
   "source": [
    "\"\"\"Define a function that can accept an integer number as input and print the \"It is an even number\" if the number is even, \n",
    "otherwise print \"It is an odd number\".\"\"\"\n",
    "\n",
    "num1=int(input())\n",
    "def Function(num1):\n",
    "    if num1%2==0:\n",
    "        print('it is an even number')\n",
    "    elif num1%2!=0:\n",
    "        print('it is odd number')\n",
    "Function(num1)"
   ]
  },
  {
   "cell_type": "code",
   "execution_count": 15,
   "metadata": {},
   "outputs": [
    {
     "name": "stdout",
     "output_type": "stream",
     "text": [
      "{1: 1, 2: 4, 3: 9}\n"
     ]
    }
   ],
   "source": [
    "\"\"\"Define a function which can print a dictionary\n",
    "where the keys are numbers between 1 and 3 (both included) and the values are square of keys.\"\"\"\n",
    "\n",
    "def pythondict():\n",
    "    d[1]=1\n",
    "    d[2]=2**2\n",
    "    d[3]=3**2\n",
    "    print(d)\n",
    "pythondict()\n",
    "    \n",
    "    \n"
   ]
  },
  {
   "cell_type": "code",
   "execution_count": 17,
   "metadata": {},
   "outputs": [
    {
     "name": "stdout",
     "output_type": "stream",
     "text": [
      "{1: 1, 2: 4, 3: 9, 4: 16, 5: 25, 6: 36, 7: 49, 8: 64, 9: 81, 10: 100, 11: 121, 12: 144, 13: 169, 14: 196, 15: 225, 16: 256, 17: 289, 18: 324, 19: 361, 20: 400}\n"
     ]
    }
   ],
   "source": [
    "\"\"\"Define a function \n",
    "which can print a dictionary where the keys are numbers between 1 and 20 (both included) and the values are square of keys.\"\"\"\n",
    "\n",
    "def Function():\n",
    "    for i in range(1,21):\n",
    "        d[i]=i**2\n",
    "    print(d)\n",
    "Function()"
   ]
  },
  {
   "cell_type": "code",
   "execution_count": 24,
   "metadata": {},
   "outputs": [
    {
     "name": "stdout",
     "output_type": "stream",
     "text": [
      "1 4 9 16 25 36 49 64 81 100 121 144 169 196 225 256 289 324 361 400 "
     ]
    }
   ],
   "source": [
    "\"\"\"Define a function which can generate a dictionary where \n",
    "the keys are numbers between 1 and 20 (both included) and the values are square of keys. \n",
    "The function should just print the values only.\"\"\"\n",
    "\n",
    "def Function1():\n",
    "    for i in range(1,21):\n",
    "        d[i]=i**2\n",
    "    for (k,v) in d.items():\n",
    "        print(v,end=\" \")\n",
    "\n",
    "Function1()"
   ]
  },
  {
   "cell_type": "code",
   "execution_count": 25,
   "metadata": {},
   "outputs": [
    {
     "name": "stdout",
     "output_type": "stream",
     "text": [
      "1 2 3 4 5 6 7 8 9 10 11 12 13 14 15 16 17 18 19 20 "
     ]
    }
   ],
   "source": [
    "\"\"\"Define a function which can generate a dictionary \n",
    "where the keys are numbers between 1 and 20 (both included) and the values are square of keys. \n",
    "The function should just print the keys only\"\"\"\n",
    "\n",
    "def Function1():\n",
    "    for i in range(1,21):\n",
    "        d[i]=i**2\n",
    "    for (k,v) in d.items():\n",
    "        print(k,end=\" \")\n",
    "\n",
    "Function1()\n"
   ]
  },
  {
   "cell_type": "code",
   "execution_count": 30,
   "metadata": {},
   "outputs": [
    {
     "name": "stdout",
     "output_type": "stream",
     "text": [
      "[1, 4, 9, 16, 25, 36, 49, 64, 81, 100, 121, 144, 169, 196, 225, 256, 289, 324, 361, 400]\n"
     ]
    }
   ],
   "source": [
    "\"\"\"Define a function which can generate and print a list where the values are square of numbers\n",
    "between 1 and 20 (both included)\"\"\"\n",
    "\n",
    "l=[]\n",
    "def Function1():\n",
    "    for i in range(1,21):\n",
    "        val=i**2\n",
    "        l.append(val)\n",
    "    print(l)\n",
    "Function1()"
   ]
  },
  {
   "cell_type": "code",
   "execution_count": 36,
   "metadata": {},
   "outputs": [
    {
     "name": "stdout",
     "output_type": "stream",
     "text": [
      "[1, 4, 9, 16, 25]\n"
     ]
    }
   ],
   "source": [
    "\"\"\"Define a function which can generate a list where the values are square of numbers between 1 and 20 (both included). \n",
    "Then the function needs to print the first 5 elements in the list.\"\"\"\n",
    "l=[]\n",
    "def Function2():\n",
    "    for i in range(1,21):\n",
    "        val=i**2\n",
    "        l.append(val)\n",
    "    print(l[0:5])\n",
    "Function2()        "
   ]
  },
  {
   "cell_type": "code",
   "execution_count": 3,
   "metadata": {},
   "outputs": [
    {
     "name": "stdout",
     "output_type": "stream",
     "text": [
      "[256, 289, 324, 361, 400]\n"
     ]
    }
   ],
   "source": [
    "\"\"\"Define a function which can generate a list where the values are square of numbers between 1 and 20 (both included).\n",
    "Then the function needs to print the last 5 elements in the list.\"\"\"\n",
    "l=[]\n",
    "def Function3():\n",
    "    for i in range(1,21):\n",
    "        val=i**2\n",
    "        l.append(val)\n",
    "    print(l[-5:])\n",
    "Function3()"
   ]
  },
  {
   "cell_type": "code",
   "execution_count": 2,
   "metadata": {},
   "outputs": [
    {
     "name": "stdout",
     "output_type": "stream",
     "text": [
      "[36, 49, 64, 81, 100, 121, 144, 169, 196, 225, 256, 289, 324, 361, 400]\n"
     ]
    }
   ],
   "source": [
    "\"\"\"Define a function which can generate a list where the values are square of numbers between 1 and 20 (both included). \n",
    "Then the function needs to print all values except the first 5 elements in the list.\"\"\"\n",
    "l=[]\n",
    "def Function4():\n",
    "    for i in range(1,21):\n",
    "        val=i**2\n",
    "        l.append(val)\n",
    "    print(l[5:])\n",
    "Function4()"
   ]
  },
  {
   "cell_type": "code",
   "execution_count": null,
   "metadata": {},
   "outputs": [],
   "source": []
  },
  {
   "cell_type": "code",
   "execution_count": null,
   "metadata": {},
   "outputs": [],
   "source": []
  }
 ],
 "metadata": {
  "kernelspec": {
   "display_name": "Python 3",
   "language": "python",
   "name": "python3"
  },
  "language_info": {
   "codemirror_mode": {
    "name": "ipython",
    "version": 3
   },
   "file_extension": ".py",
   "mimetype": "text/x-python",
   "name": "python",
   "nbconvert_exporter": "python",
   "pygments_lexer": "ipython3",
   "version": "3.7.4"
  }
 },
 "nbformat": 4,
 "nbformat_minor": 2
}
