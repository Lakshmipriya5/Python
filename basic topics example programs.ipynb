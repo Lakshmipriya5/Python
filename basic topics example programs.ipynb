{
 "cells": [
  {
   "cell_type": "code",
   "execution_count": 4,
   "metadata": {},
   "outputs": [
    {
     "name": "stdout",
     "output_type": "stream",
     "text": [
      "enter the number234\n",
      "enter the number456\n"
     ]
    },
    {
     "data": {
      "text/plain": [
       "690"
      ]
     },
     "execution_count": 4,
     "metadata": {},
     "output_type": "execute_result"
    }
   ],
   "source": [
    "\"\"\"Question 1: Given a two integer numbers return their product and  if the product is greater than 1000, \n",
    "then return their sum\"\"\"\n",
    "\n",
    "a=int(input('enter the number'))\n",
    "b=int(input('enter the number'))\n",
    "c = a*b\n",
    "def function(a,b):\n",
    "    if c<1000:\n",
    "        return c\n",
    "    elif c > 1000:\n",
    "        return a+b\n",
    "function(a,b)"
   ]
  },
  {
   "cell_type": "code",
   "execution_count": 37,
   "metadata": {},
   "outputs": [
    {
     "name": "stdout",
     "output_type": "stream",
     "text": [
      "Current Number 0 Previous Number 0 Sum: 0\n",
      "Current Number 1 Previous Number 0 Sum: 1\n",
      "Current Number 2 Previous Number 1 Sum: 3\n",
      "Current Number 3 Previous Number 2 Sum: 5\n",
      "Current Number 4 Previous Number 3 Sum: 7\n",
      "Current Number 5 Previous Number 4 Sum: 9\n",
      "Current Number 6 Previous Number 5 Sum: 11\n",
      "Current Number 7 Previous Number 6 Sum: 13\n",
      "Current Number 8 Previous Number 7 Sum: 15\n",
      "Current Number 9 Previous Number 8 Sum: 17\n"
     ]
    }
   ],
   "source": [
    "\"\"\"Question 2: Given a range of first 10 numbers, \n",
    "Iterate from start number to the end number and print the sum of the current number and previous number\"\"\"\n",
    "\n",
    "previousnum=0\n",
    "for i in range(10):\n",
    "    sum=previousnum+i\n",
    "    print('Current Number',i,'Previous Number',previousnum,'Sum:',sum)\n",
    "    previousnum=i"
   ]
  },
  {
   "cell_type": "code",
   "execution_count": 45,
   "metadata": {},
   "outputs": [
    {
     "name": "stdout",
     "output_type": "stream",
     "text": [
      "enter the input:LakshmiPriya\n",
      "even index letters are: asmPia\n"
     ]
    }
   ],
   "source": [
    "\"\"\"Given a string, display only those characters which are present at an even index number\"\"\"\n",
    "\n",
    "str1=input('enter the input:')\n",
    "print('even index letters are:',str1[1:len(str1):2])"
   ]
  },
  {
   "cell_type": "code",
   "execution_count": 48,
   "metadata": {},
   "outputs": [
    {
     "name": "stdout",
     "output_type": "stream",
     "text": [
      "enter the stringLakshmipriya\n",
      "12\n",
      "enter the number:4\n",
      "mipriya\n"
     ]
    }
   ],
   "source": [
    "\"\"\"Question 4: \n",
    "Given a string and an integer number n, remove characters from a string starting from zero up to n and return a new string\"\"\"\n",
    "\n",
    "str1=input('enter the string')\n",
    "print(len(str1))\n",
    "n=int(input('enter the number:'))\n",
    "print(str1[n+1:])"
   ]
  },
  {
   "cell_type": "code",
   "execution_count": 54,
   "metadata": {},
   "outputs": [
    {
     "name": "stdout",
     "output_type": "stream",
     "text": [
      "False\n"
     ]
    }
   ],
   "source": [
    "\"\"\"Given a list of numbers, return True if first and last number of a list is same\"\"\"\n",
    "\n",
    "\n",
    "list1=[10,20,30,40,50]\n",
    "list2=[10,30,40,70,60]\n",
    "\n",
    "\n",
    "if ((list1[0]==list2[0]) and (list1[4]==list2[4])):\n",
    "     print(True)\n",
    "else:\n",
    "    print(False)"
   ]
  },
  {
   "cell_type": "code",
   "execution_count": 56,
   "metadata": {},
   "outputs": [
    {
     "name": "stdout",
     "output_type": "stream",
     "text": [
      "enter the n range:50\n",
      "[0, 5, 10, 15, 20, 25, 30, 35, 40, 45]\n"
     ]
    }
   ],
   "source": [
    "\"\"\"Question 6: Given a list of numbers, Iterate it and print only those numbers which are divisible of 5\"\"\"\n",
    "\n",
    "li=[]\n",
    "n=int(input('enter the n range:'))\n",
    "for i in range(n):\n",
    "    if i%5==0:\n",
    "        li.append(i)\n",
    "print(li)"
   ]
  },
  {
   "cell_type": "code",
   "execution_count": 67,
   "metadata": {},
   "outputs": [
    {
     "name": "stdout",
     "output_type": "stream",
     "text": [
      "2\n"
     ]
    }
   ],
   "source": [
    "\"\"\"Question 7: Return the total count of sub-string “Emma” appears in the given string\"\"\"\n",
    "\n",
    "sub_str='Emma'\n",
    "main_str='Emma is good developer. Emma is a writer'\n",
    "cnn=main_str.count('Emma')\n",
    "print(cnn)"
   ]
  },
  {
   "cell_type": "code",
   "execution_count": 10,
   "metadata": {},
   "outputs": [
    {
     "name": "stdout",
     "output_type": "stream",
     "text": [
      "enter the number:5\n",
      "\n",
      "1 \n",
      "2 2 \n",
      "3 3 3 \n",
      "4 4 4 4 \n",
      "5 5 5 5 5 \n"
     ]
    }
   ],
   "source": [
    "\"\"\"\n",
    "Need to print the pattern\n",
    "\n",
    "1 \n",
    "2 2 \n",
    "3 3 3 \n",
    "4 4 4 4 \n",
    "5 5 5 5 5\"\"\"\n",
    "\n",
    "n=int(input('enter the number:'))\n",
    "for i in range(0,n+1):\n",
    "    for j in range(i):\n",
    "        print(i,end=' ')\n",
    "    print()\n",
    "    "
   ]
  },
  {
   "cell_type": "code",
   "execution_count": 37,
   "metadata": {},
   "outputs": [
    {
     "name": "stdout",
     "output_type": "stream",
     "text": [
      "enter the number:121\n",
      "True\n"
     ]
    }
   ],
   "source": [
    "\"\"\"Question 9: Reverse a given number and return true if it is the same as the original number\"\"\"\n",
    "\n",
    "number= int(input('enter the number:'))\n",
    "originalnum=number\n",
    "reversenum1=0\n",
    "while (number>0):\n",
    "    reminder=number%10\n",
    "    reversenum1=(reversenum1*10)+reminder\n",
    "    number=number//10\n",
    "if originalnum==reversenum1:\n",
    "    print(True)\n",
    "else:\n",
    "    print(False)"
   ]
  },
  {
   "cell_type": "code",
   "execution_count": 44,
   "metadata": {},
   "outputs": [
    {
     "name": "stdout",
     "output_type": "stream",
     "text": [
      "[1, 3, 5, 8, 10]\n"
     ]
    }
   ],
   "source": [
    "\"\"\"Question 10: Given a two list of numbers create a new list such that new list should contain only odd numbers from \n",
    "the first list and even numbers from the second list\"\"\"\n",
    "\n",
    "list1=[1,2,3,4,5,6]\n",
    "list2=[7,8,9,10,11]\n",
    "list3=[]\n",
    "for i in list1:\n",
    "    if i%2!=0:\n",
    "        list3.append(i)\n",
    "for j in list2:\n",
    "    if j%2==0:\n",
    "        list3.append(j)\n",
    "print(list3)"
   ]
  },
  {
   "cell_type": "code",
   "execution_count": 2,
   "metadata": {},
   "outputs": [
    {
     "name": "stdout",
     "output_type": "stream",
     "text": [
      "enter the number:123\n",
      "[3, 2, 1]\n"
     ]
    }
   ],
   "source": [
    "\"\"\"Question 11: Write a code to extract each digit from an integer, in the reverse order\"\"\"\n",
    "list=[]\n",
    "num=int(input('enter the number:'))\n",
    "while num>0:\n",
    "    reminder=num%10\n",
    "    num=num//10\n",
    "    list.append(reminder)\n",
    "print(list)"
   ]
  },
  {
   "cell_type": "code",
   "execution_count": 9,
   "metadata": {},
   "outputs": [
    {
     "name": "stdout",
     "output_type": "stream",
     "text": [
      "1 2 3 4 5 6 7 8 9 10 \n",
      "2 4 6 8 10 12 14 16 18 20 \n",
      "3 6 9 12 15 18 21 24 27 30 \n",
      "4 8 12 16 20 24 28 32 36 40 \n",
      "5 10 15 20 25 30 35 40 45 50 \n",
      "6 12 18 24 30 36 42 48 54 60 \n",
      "7 14 21 28 35 42 49 56 63 70 \n",
      "8 16 24 32 40 48 56 64 72 80 \n",
      "9 18 27 36 45 54 63 72 81 90 \n",
      "10 20 30 40 50 60 70 80 90 100 \n"
     ]
    }
   ],
   "source": [
    "\"\"\"Print multiplication table form 1 to 10\"\"\"\n",
    "\n",
    "for i in range(1,11):\n",
    "    for j in range(1,11):\n",
    "        print(i*j,end=' ')\n",
    "    print()"
   ]
  },
  {
   "cell_type": "code",
   "execution_count": 13,
   "metadata": {},
   "outputs": [
    {
     "name": "stdout",
     "output_type": "stream",
     "text": [
      "enter the number:5\n",
      "* * * * * \n",
      "* * * * \n",
      "* * * \n",
      "* * \n",
      "* \n"
     ]
    }
   ],
   "source": [
    "\"\"\"Question 14: Print downward Half-Pyramid Pattern with Star (asterisk)\n",
    "\n",
    "* * * * *  \n",
    "* * * *  \n",
    "* * *  \n",
    "* *  \n",
    "*\n",
    "\n",
    "\"\"\"\n",
    "n=int(input('enter the number:'))\n",
    "for i in range(n):\n",
    "    for j in range(n-i):\n",
    "        print('*',end=' ')\n",
    "    print()"
   ]
  },
  {
   "cell_type": "code",
   "execution_count": 16,
   "metadata": {},
   "outputs": [
    {
     "name": "stdout",
     "output_type": "stream",
     "text": [
      "enter the base value:5\n",
      "enter the value:4\n",
      "625\n"
     ]
    }
   ],
   "source": [
    "\"\"\"Question 15: Write a function called exponent(base, exp) that returns an int value of base raises to the power of exp.\"\"\"\n",
    "base=int(input('enter the base value:'))\n",
    "exp=int(input('enter the value:'))\n",
    "def exponent(base,exp):\n",
    "    print(pow(base,exp))\n",
    "exponent(base,exp)"
   ]
  },
  {
   "cell_type": "code",
   "execution_count": null,
   "metadata": {},
   "outputs": [],
   "source": []
  }
 ],
 "metadata": {
  "kernelspec": {
   "display_name": "Python 3",
   "language": "python",
   "name": "python3"
  },
  "language_info": {
   "codemirror_mode": {
    "name": "ipython",
    "version": 3
   },
   "file_extension": ".py",
   "mimetype": "text/x-python",
   "name": "python",
   "nbconvert_exporter": "python",
   "pygments_lexer": "ipython3",
   "version": "3.7.4"
  }
 },
 "nbformat": 4,
 "nbformat_minor": 2
}
