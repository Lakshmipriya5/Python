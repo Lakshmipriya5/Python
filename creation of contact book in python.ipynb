{
 "cells": [
  {
   "cell_type": "code",
   "execution_count": 9,
   "metadata": {},
   "outputs": [
    {
     "name": "stdout",
     "output_type": "stream",
     "text": [
      "enter the main choice what you want update,insert or deleteupdate\n",
      "enter the choiceupdate_address\n",
      "enter the addressJapan\n",
      "enter the emp nameLakshmi\n"
     ]
    }
   ],
   "source": [
    "import sqlite3\n",
    "conn=sqlite3.connect('contact_info.db')\n",
    "cur=conn.cursor()   \n",
    "\n",
    "def update_phone(phone,emp):\n",
    "    update_query='UPDATE book SET phone=? WHERE emp=?'\n",
    "    data=(phone,emp)\n",
    "    cur.execute(update_query,data)\n",
    "\n",
    "\n",
    "def update_address(address,emp):\n",
    "    update_query='UPDATE book SET address=? WHERE emp=?'\n",
    "    data=(address,emp)\n",
    "    cur.execute(update_query,data)\n",
    "\n",
    "\n",
    "def update_mail(mailid,emp):\n",
    "    update_query='UPDATE book SET mailid=? WHERE emp=?'\n",
    "    data=(mailid,emp)\n",
    "    cur.execute(update_query,data)\n",
    "    \n",
    "def update_emp(emp,address,phone,mailid):\n",
    "    update_query='UPDATE book SET emp=? WHERE address=? AND phone=? AND mailid=?'\n",
    "    data=(emp,address,phone,mailid)\n",
    "    cur.execute(update_query,data)\n",
    "\n",
    "def update():\n",
    "    choice=input('enter the choice')\n",
    "    if choice=='update_phone':\n",
    "        update_phone(phone=int(input('enter the phone number')),emp=input('enter the emp name'))\n",
    "    elif choice=='update_address':\n",
    "        update_address(address=input('enter the address'),emp=input('enter the emp name'))\n",
    "    elif choice=='update_mail':\n",
    "        update_mail(mailid=input('enter the mailid'),emp=input('enter the emp'))\n",
    "    elif choice=='update_emp':\n",
    "        update_emp(emp=input('enter the emp name'),address=input('enter the address'),phone=int(input('enter the phone number')),mailid=input('enter the mailid'))\n",
    "        \n",
    "    \n",
    "def insert(emp,address,phone,mailid):\n",
    "        insert_query='INSERT INTO book (emp,address,phone,mailid) VALUES(?,?,?,?)'\n",
    "        data=(emp,address,phone,mailid)\n",
    "        cur.execute(insert_query,data)\n",
    "    \n",
    "def delete(emp,phone):\n",
    "    delete_query='DELETE FROM book WHERE emp=? and phone=?'\n",
    "    data=(emp,phone)\n",
    "    cur.execute(delete_query,data)\n",
    "    \n",
    "choice_main=input('enter the main choice what you want update,insert or delete')\n",
    "if choice_main=='update':\n",
    "    update()\n",
    "elif choice_main=='insert':\n",
    "    insert(emp=input('enter the emp name'),address=input('enter the address'),phone=int(input('enter the phone number')),mailid=input('enter the mailid'))\n",
    "elif choice_main=='delete':\n",
    "    delete(emp=input('enter the emp name'),phone=int(input('enter the phone number')))\n",
    "    \n",
    "\n",
    "conn.commit()\n",
    "conn.close()\n",
    "    "
   ]
  },
  {
   "attachments": {
    "Capture%20-%20table.PNG": {
     "image/png": "[encoded data removed]"
    }
   },
   "cell_type": "markdown",
   "metadata": {},
   "source": [
    "![Capture%20-%20table.PNG](attachment:Capture%20-%20table.PNG)"
   ]
  }
 ],
 "metadata": {
  "kernelspec": {
   "display_name": "Python 3",
   "language": "python",
   "name": "python3"
  },
  "language_info": {
   "codemirror_mode": {
    "name": "ipython",
    "version": 3
   },
   "file_extension": ".py",
   "mimetype": "text/x-python",
   "name": "python",
   "nbconvert_exporter": "python",
   "pygments_lexer": "ipython3",
   "version": "3.7.4"
  }
 },
 "nbformat": 4,
 "nbformat_minor": 2
}
