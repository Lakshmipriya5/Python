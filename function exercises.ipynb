{
 "cells": [
  {
   "cell_type": "code",
   "execution_count": 1,
   "metadata": {},
   "outputs": [
    {
     "name": "stdout",
     "output_type": "stream",
     "text": [
      "enter the namepriya\n",
      "enter the age of person:23\n",
      "Age of priya is 23\n"
     ]
    }
   ],
   "source": [
    "\"\"\"Exercise Question 1: Create a function that can accept two arguments name and age and print its value\"\"\"\n",
    "name=input('enter the name')\n",
    "age=int(input('enter the age of person:'))\n",
    "\n",
    "def Function(name,age):\n",
    "    print('Age of {} is {}'.format(name,age))\n",
    "Function(name,age)"
   ]
  },
  {
   "cell_type": "code",
   "execution_count": 8,
   "metadata": {},
   "outputs": [
    {
     "name": "stdout",
     "output_type": "stream",
     "text": [
      "12\n",
      "233\n",
      "34\n",
      "12 233\n",
      "12 233 34\n"
     ]
    }
   ],
   "source": [
    " \"\"\"Exercise Question 2: Write a function func1() such that it can accept a \n",
    "variable length of  argument and print all arguments value\"\"\"\n",
    "\n",
    "le1=int(input())\n",
    "le2=int(input())\n",
    "le3=int(input())\n",
    "\n",
    "def Function1(le1,le2):\n",
    "     print(le1,le2)\n",
    "def Function2(le1,le2,le3):\n",
    "    print(le1,le2,le3)\n",
    "\n",
    "Function1(le1,le2)\n",
    "Function2(le1,le2,le3)"
   ]
  },
  {
   "cell_type": "code",
   "execution_count": 9,
   "metadata": {},
   "outputs": [
    {
     "name": "stdout",
     "output_type": "stream",
     "text": [
      "23\n",
      "12\n"
     ]
    },
    {
     "data": {
      "text/plain": [
       "(35, 11)"
      ]
     },
     "execution_count": 9,
     "metadata": {},
     "output_type": "execute_result"
    }
   ],
   "source": [
    "\"\"\"Exercise Question 3: Write a function calculation() such that it can accept two variables and \n",
    "calculate the addition and subtraction of it. \n",
    "And also it must return both addition and subtraction in a single return call\"\"\"\n",
    "\n",
    "a=int(input())\n",
    "b=int(input())\n",
    "sum=a+b\n",
    "sub=a-b\n",
    "def Calculation(sum,sub):\n",
    "    return sum,sub\n",
    "Calculation(sum,sub)\n",
    "    \n",
    "    "
   ]
  },
  {
   "cell_type": "code",
   "execution_count": 5,
   "metadata": {},
   "outputs": [
    {
     "name": "stdout",
     "output_type": "stream",
     "text": [
      "priya\n",
      "3000\n",
      "priya 3000\n",
      "priya 9000\n"
     ]
    }
   ],
   "source": [
    "\"\"\"Exercise Question 4: Create a function showEmployee() in such a way that it should accept employee name, \n",
    "and it’s salary and display both, \n",
    "and if the salary is missing in function call it should show it as 9000\"\"\"\n",
    "\n",
    "empname=input()\n",
    "empsalary=input()\n",
    "def showEmployee(empname,empsalary):\n",
    "    print(empname,empsalary)\n",
    "showEmployee(empname,empsalary)\n",
    "showEmployee(empname,9000)\n",
    "\n",
    "    "
   ]
  },
  {
   "cell_type": "code",
   "execution_count": 14,
   "metadata": {},
   "outputs": [
    {
     "name": "stdout",
     "output_type": "stream",
     "text": [
      "enter the number:2\n",
      "enter the number2\n"
     ]
    },
    {
     "data": {
      "text/plain": [
       "9"
      ]
     },
     "execution_count": 14,
     "metadata": {},
     "output_type": "execute_result"
    }
   ],
   "source": [
    "\"\"\"Exercise Question 5: Create an inner function to calculate the addition in the following way\n",
    "\n",
    "Create an outer function that will accept two parameters a and b\n",
    "Create an inner function inside an outer function that will calculate the addition of a and b\n",
    "At last, an outer function will add 5 into addition and return it\n",
    "\n",
    "\n",
    "\n",
    "\"\"\"\n",
    "\n",
    "a=int(input('enter the number:'))\n",
    "b=int(input('enter the number'))\n",
    "def Cal_out(a,b):\n",
    "    return a+b+5\n",
    "    def Cal_ine(a,b):\n",
    "        print(a+b)\n",
    "    Cal_ine(a,b)\n",
    "Cal_out(a,b)\n",
    "    "
   ]
  },
  {
   "cell_type": "code",
   "execution_count": 1,
   "metadata": {},
   "outputs": [
    {
     "name": "stdout",
     "output_type": "stream",
     "text": [
      "enter the number10\n"
     ]
    },
    {
     "data": {
      "text/plain": [
       "55"
      ]
     },
     "execution_count": 1,
     "metadata": {},
     "output_type": "execute_result"
    }
   ],
   "source": [
    "\"\"\"Exercise Question 6: Write a recursive function to calculate the sum of numbers from 0 to 10\"\"\"\n",
    "\n",
    "num=int(input('enter the number'))\n",
    "\n",
    "def Calculate(num):\n",
    "    if num:\n",
    "        return num+Calculate(num-1)\n",
    "    else:\n",
    "        return 0\n",
    "Calculate(num)"
   ]
  },
  {
   "cell_type": "code",
   "execution_count": 4,
   "metadata": {},
   "outputs": [
    {
     "name": "stdout",
     "output_type": "stream",
     "text": [
      "[4, 6, 8, 10, 12, 14, 16, 18, 20, 22, 24, 26, 28, 30]\n"
     ]
    }
   ],
   "source": [
    "\"\"\"Exercise Question 8: Generate a Python list of all the even numbers between 4 to 30\"\"\"\n",
    "\n",
    "list1=[]\n",
    "for i in range(4,31):\n",
    "    if i%2==0:\n",
    "        list1.append(i)\n",
    "print(list1)\n"
   ]
  },
  {
   "cell_type": "code",
   "execution_count": 5,
   "metadata": {},
   "outputs": [
    {
     "name": "stdout",
     "output_type": "stream",
     "text": [
      "30\n"
     ]
    }
   ],
   "source": [
    "\"\"\"Exercise Question 9: Return the largest item from the given list\"\"\"\n",
    "\n",
    "print(max(list1))"
   ]
  }
 ],
 "metadata": {
  "kernelspec": {
   "display_name": "Python 3",
   "language": "python",
   "name": "python3"
  },
  "language_info": {
   "codemirror_mode": {
    "name": "ipython",
    "version": 3
   },
   "file_extension": ".py",
   "mimetype": "text/x-python",
   "name": "python",
   "nbconvert_exporter": "python",
   "pygments_lexer": "ipython3",
   "version": "3.7.4"
  }
 },
 "nbformat": 4,
 "nbformat_minor": 2
}
