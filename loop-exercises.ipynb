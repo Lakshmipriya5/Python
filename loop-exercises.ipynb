{
 "cells": [
  {
   "cell_type": "code",
   "execution_count": 2,
   "metadata": {},
   "outputs": [
    {
     "name": "stdout",
     "output_type": "stream",
     "text": [
      "enter the number10\n",
      "1\n",
      "2\n",
      "3\n",
      "4\n",
      "5\n",
      "6\n",
      "7\n",
      "8\n",
      "9\n",
      "10\n"
     ]
    }
   ],
   "source": [
    "\"\"\"Exercise Question 1: Print First 10 natural numbers using while loop\"\"\"\n",
    "\n",
    "num=int(input('enter the number'))\n",
    "i=1\n",
    "while i<=num:\n",
    "    print(i)\n",
    "    i=i+1"
   ]
  },
  {
   "cell_type": "code",
   "execution_count": 10,
   "metadata": {},
   "outputs": [
    {
     "name": "stdout",
     "output_type": "stream",
     "text": [
      "enter the number:5\n",
      "1 \n",
      "1 2 \n",
      "1 2 3 \n",
      "1 2 3 4 \n",
      "1 2 3 4 5 \n"
     ]
    }
   ],
   "source": [
    "\"\"\"\n",
    "print the following pattern\n",
    "\n",
    "1 \n",
    "1 2 \n",
    "1 2 3 \n",
    "1 2 3 4 \n",
    "1 2 3 4 5\n",
    "\n",
    "\"\"\"\n",
    "\n",
    "n=int(input('enter the number:'))\n",
    "\n",
    "for i in range(1,n+1):\n",
    "    for j in range(i):\n",
    "        print(j+1,end=' ')\n",
    "    print()"
   ]
  },
  {
   "cell_type": "code",
   "execution_count": 12,
   "metadata": {},
   "outputs": [
    {
     "name": "stdout",
     "output_type": "stream",
     "text": [
      "enter the number:10\n",
      "55\n"
     ]
    }
   ],
   "source": [
    "\"\"\"Exercise Question 3: Accept number from user and calculate the sum of all number between 1 and given number\"\"\"\n",
    "\n",
    "num=int(input('enter the number:'))\n",
    "sum=0\n",
    "for i in range(1,num+1):\n",
    "    sum=sum+i\n",
    "print(sum)"
   ]
  },
  {
   "cell_type": "code",
   "execution_count": 10,
   "metadata": {},
   "outputs": [
    {
     "name": "stdout",
     "output_type": "stream",
     "text": [
      "enter the number:2\n",
      " 2 * 1 = 2\n",
      " 2 * 2 = 4\n",
      " 2 * 3 = 6\n",
      " 2 * 4 = 8\n",
      " 2 * 5 = 10\n",
      " 2 * 6 = 12\n",
      " 2 * 7 = 14\n",
      " 2 * 8 = 16\n",
      " 2 * 9 = 18\n",
      " 2 * 10 = 20\n"
     ]
    }
   ],
   "source": [
    "\"\"\"Exercise Question 4: Print multiplication table of given number\"\"\"\n",
    "\n",
    "num=int(input('enter the number:'))\n",
    "i=1\n",
    "while num>0:\n",
    "    mul=num*i\n",
    "    print(' {} * {} = {}'.format(num,i,mul))\n",
    "    i=i+1\n",
    "    if i>10:\n",
    "        break\n",
    "    "
   ]
  },
  {
   "cell_type": "code",
   "execution_count": 17,
   "metadata": {},
   "outputs": [
    {
     "name": "stdout",
     "output_type": "stream",
     "text": [
      "enter the number:300\n",
      "[0, 5, 10, 15, 20, 25, 30, 35, 40, 45, 50, 55, 60, 65, 70, 75, 80, 85, 90, 95, 100, 105, 110, 115, 120, 125, 130, 135, 140, 145, 150]\n"
     ]
    }
   ],
   "source": [
    "\"\"\"Exercise Question 5: Given a list iterate it and display numbers \n",
    "which are divisible by 5 and if you find number greater than 150 stop the loop iteration\"\"\"\n",
    "\n",
    "list=[]\n",
    "num=int(input('enter the number:'))\n",
    "for i in range(0,num+1):\n",
    "    if i%5==0:\n",
    "        list.append(i)\n",
    "        if i>=150:\n",
    "            break\n",
    "print(list)\n"
   ]
  },
  {
   "cell_type": "code",
   "execution_count": 21,
   "metadata": {},
   "outputs": [
    {
     "name": "stdout",
     "output_type": "stream",
     "text": [
      "enter the number12345\n",
      "5\n"
     ]
    }
   ],
   "source": [
    "\"\"\"Exercise Question 6: Given a number count the total number of digits in a number\"\"\"\n",
    "\n",
    "num=input('enter the number')\n",
    "count=0\n",
    "for i in num:\n",
    "    count=count+1\n",
    "print(count)"
   ]
  },
  {
   "cell_type": "code",
   "execution_count": 59,
   "metadata": {},
   "outputs": [
    {
     "name": "stdout",
     "output_type": "stream",
     "text": [
      "enter the number:5\n",
      "5 4 3 2 1 \n",
      "4 3 2 1 \n",
      "3 2 1 \n",
      "2 1 \n",
      "1 \n",
      "\n"
     ]
    }
   ],
   "source": [
    "\"\"\"Exercise Question 7: Print the following pattern using for loop\n",
    "\n",
    "5 4 3 2 1 \n",
    "4 3 2 1 \n",
    "3 2 1 \n",
    "2 1 \n",
    "1\n",
    "\n",
    "\"\"\"\n",
    "\n",
    "\n",
    "num=int(input('enter the number:'))\n",
    "k=5\n",
    "for i in range(0,num+1):\n",
    "    for j in range(k-i,0,-1):\n",
    "        print(j , end=' ')\n",
    "    print()"
   ]
  },
  {
   "cell_type": "code",
   "execution_count": 26,
   "metadata": {},
   "outputs": [
    {
     "name": "stdout",
     "output_type": "stream",
     "text": [
      "50\n",
      "40\n",
      "30\n",
      "20\n",
      "10\n"
     ]
    }
   ],
   "source": [
    "\"\"\"Exercise Question 8: Reverse the following list using for loop\n",
    "list1 = [10, 20, 30, 40, 50]\"\"\"\n",
    "\n",
    "list1=[10,20,30,40,50]\n",
    "for i in range(len(list1)):\n",
    "    print(list1[-(i+1)])\n"
   ]
  },
  {
   "cell_type": "code",
   "execution_count": 35,
   "metadata": {},
   "outputs": [
    {
     "name": "stdout",
     "output_type": "stream",
     "text": [
      "-10\n",
      "-9\n",
      "-8\n",
      "-7\n",
      "-6\n",
      "-5\n",
      "-4\n",
      "-3\n",
      "-2\n",
      "-1\n"
     ]
    }
   ],
   "source": [
    "\"\"\"Exercise Question 9: Display -10 to -1 using for loop\"\"\"\n",
    "\n",
    "for i in range(-10,0,1):\n",
    "    print(i)"
   ]
  },
  {
   "cell_type": "code",
   "execution_count": 39,
   "metadata": {},
   "outputs": [
    {
     "name": "stdout",
     "output_type": "stream",
     "text": [
      "enter the number5\n",
      "0\n",
      "1\n",
      "2\n",
      "3\n",
      "4\n",
      "Done !\n"
     ]
    }
   ],
   "source": [
    "\"\"\"Exercise Question 10: Display a message “Done” after successful execution of for loop\"\"\"\n",
    "\n",
    "num=int(input('enter the number'))\n",
    "\n",
    "for i in range(num):\n",
    "    print(i)\n",
    "print('Done !')"
   ]
  }
 ],
 "metadata": {
  "kernelspec": {
   "display_name": "Python 3",
   "language": "python",
   "name": "python3"
  },
  "language_info": {
   "codemirror_mode": {
    "name": "ipython",
    "version": 3
   },
   "file_extension": ".py",
   "mimetype": "text/x-python",
   "name": "python",
   "nbconvert_exporter": "python",
   "pygments_lexer": "ipython3",
   "version": "3.7.4"
  }
 },
 "nbformat": 4,
 "nbformat_minor": 2
}
