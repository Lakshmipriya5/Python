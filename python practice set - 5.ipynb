{
 "cells": [
  {
   "cell_type": "code",
   "execution_count": 2,
   "metadata": {},
   "outputs": [
    {
     "name": "stdout",
     "output_type": "stream",
     "text": [
      "(1, 4, 9, 16, 25, 36, 49, 64, 81, 100, 121, 144, 169, 196, 225, 256, 289, 324, 361, 400)\n"
     ]
    }
   ],
   "source": [
    "\"\"\"Define a function which can generate and print a tuple\n",
    "where the value are square of numbers between 1 and 20 (both included)\"\"\"\n",
    "\n",
    "li=[]\n",
    "def Function():\n",
    "    for i in range(1,21):\n",
    "        val=i**2\n",
    "        li.append(val)\n",
    "    print(tuple(li))\n",
    "Function()\n"
   ]
  },
  {
   "cell_type": "code",
   "execution_count": 8,
   "metadata": {},
   "outputs": [
    {
     "name": "stdout",
     "output_type": "stream",
     "text": [
      "(1, 4, 9, 16, 25, 36, 49, 64, 81, 100, 121)\n",
      "(144, 169, 196, 225, 256, 289, 324, 361, 400)\n"
     ]
    }
   ],
   "source": [
    "\"\"\"With a given tuple (1,2,3,4,5,6,7,8,9,10),\n",
    "write a program to print the first half values in one line and the last half values in one line.\"\"\"\n",
    "\n",
    "li=[]\n",
    "def Function1():\n",
    "    for i in range(1,21):\n",
    "        val=i**2\n",
    "        li.append(val)\n",
    "    print(tuple(li[0:11]))\n",
    "    print(tuple(li[11:21]))\n",
    "Function1()   "
   ]
  },
  {
   "cell_type": "code",
   "execution_count": 18,
   "metadata": {},
   "outputs": [
    {
     "name": "stdout",
     "output_type": "stream",
     "text": [
      "(4, 16, 36, 64, 100, 144, 196, 256, 324, 400)\n"
     ]
    }
   ],
   "source": [
    "\"\"\"Write a program to generate and print another tuple whose \n",
    "values are even numbers in the given tuple (1,2,3,4,5,6,7,8,9,10).\"\"\"\n",
    "\n",
    "li=[]\n",
    "li1=[]\n",
    "def Function2():\n",
    "    for i in range(1,21):\n",
    "        val=i**2\n",
    "        li.append(val)\n",
    "        t=tuple(li)\n",
    "    for j in t:\n",
    "        if j%2==0:\n",
    "            li1.append(j)\n",
    "    print(tuple(li1))\n",
    "Function2()"
   ]
  },
  {
   "cell_type": "code",
   "execution_count": 32,
   "metadata": {},
   "outputs": [
    {
     "name": "stdout",
     "output_type": "stream",
     "text": [
      "No\n",
      "No\n"
     ]
    }
   ],
   "source": [
    "#Write a program which accepts a string as input to print \"Yes\" if \n",
    "#the string is \"yes\" or \"YES\" or \"Yes\", otherwise print \"No'\n",
    "\n",
    "str=input()\n",
    "def Function3():\n",
    "    if str == 'yes' and 'YES' and 'Yes':\n",
    "        print(\"Yes\")\n",
    "    elif str=='No':\n",
    "        print('No')\n",
    "Function3()\n",
    "        "
   ]
  },
  {
   "cell_type": "code",
   "execution_count": 6,
   "metadata": {},
   "outputs": [
    {
     "name": "stdout",
     "output_type": "stream",
     "text": [
      "<filter object at 0x0000019360B08408>\n"
     ]
    }
   ],
   "source": [
    "\"\"\"Write a program which can filter even numbers in a \n",
    "list by using filter function. The list is: [1,2,3,4,5,6,7,8,9,10]\"\"\"\n",
    "\n",
    "li = [1,2,3,4,5,6,7,8,9,10]\n",
    "evenNumbers = filter(lambda x: x%2==0, li)\n",
    "print(evenNumbers)\n"
   ]
  },
  {
   "cell_type": "code",
   "execution_count": 4,
   "metadata": {},
   "outputs": [
    {
     "name": "stdout",
     "output_type": "stream",
     "text": [
      "<map object at 0x0000019360A68FC8>\n"
     ]
    }
   ],
   "source": [
    "\"\"\"Write a program which can map() to make a list whose elements are square of elements in [1,2,3,4,5,6,7,8,9,10].\"\"\"\n",
    "li=[1,2,3,4,5,6,7,8,9,10]\n",
    "squarednumbers=map(lambda x:x**2,li)\n",
    "print(squarednumbers)\n"
   ]
  },
  {
   "cell_type": "code",
   "execution_count": 7,
   "metadata": {},
   "outputs": [
    {
     "name": "stdout",
     "output_type": "stream",
     "text": [
      "<map object at 0x0000019360B08B48>\n"
     ]
    }
   ],
   "source": [
    "\"\"\"Write a program which can map() and filter() to make a \n",
    "list whose elements are square of even number in [1,2,3,4,5,6,7,8,9,10].\"\"\"\n",
    "\n",
    "li = [1,2,3,4,5,6,7,8,9,10]\n",
    "evenNumbers = map(lambda x: x**2, filter(lambda x: x%2==0, li))\n",
    "print(evenNumbers)"
   ]
  },
  {
   "cell_type": "code",
   "execution_count": 8,
   "metadata": {},
   "outputs": [
    {
     "name": "stdout",
     "output_type": "stream",
     "text": [
      "<filter object at 0x0000019360B08A08>\n"
     ]
    }
   ],
   "source": [
    "\"\"\"Write a program which can filter() to make a list whose elements are even number between 1 and 20 (both included)\"\"\"\n",
    "\n",
    "evennumbers=filter(lambda x:x%2==0,range(1,21))\n",
    "print(evennumbers)"
   ]
  },
  {
   "cell_type": "code",
   "execution_count": 9,
   "metadata": {},
   "outputs": [
    {
     "name": "stdout",
     "output_type": "stream",
     "text": [
      "<map object at 0x0000019360B08EC8>\n"
     ]
    }
   ],
   "source": [
    "\"\"\"Write a program which can map() to make a list whose elements are square of numbers between 1 and 20 (both included).\"\"\"\n",
    "\n",
    "squarednum=map(lambda x:x**2,range(1,21))\n",
    "print(squarednum)"
   ]
  },
  {
   "cell_type": "code",
   "execution_count": 10,
   "metadata": {},
   "outputs": [
    {
     "name": "stdout",
     "output_type": "stream",
     "text": [
      "America\n",
      "America\n"
     ]
    }
   ],
   "source": [
    "\"\"\"Define a class named American which has a static method called printNationality.\n",
    "\n",
    "Hints: Use @staticmethod decorator to define class static method.\"\"\"\n",
    "\n",
    "\n",
    "class American(object):\n",
    "    @staticmethod\n",
    "    def printNationality():\n",
    "        print(\"America\")\n",
    "\n",
    "anAmerican = American()\n",
    "anAmerican.printNationality()\n",
    "American.printNationality()"
   ]
  }
 ],
 "metadata": {
  "kernelspec": {
   "display_name": "Python 3",
   "language": "python",
   "name": "python3"
  },
  "language_info": {
   "codemirror_mode": {
    "name": "ipython",
    "version": 3
   },
   "file_extension": ".py",
   "mimetype": "text/x-python",
   "name": "python",
   "nbconvert_exporter": "python",
   "pygments_lexer": "ipython3",
   "version": "3.7.4"
  }
 },
 "nbformat": 4,
 "nbformat_minor": 2
}
