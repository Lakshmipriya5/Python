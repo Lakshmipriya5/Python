{
 "cells": [
  {
   "cell_type": "code",
   "execution_count": 1,
   "metadata": {},
   "outputs": [
    {
     "name": "stdout",
     "output_type": "stream",
     "text": [
      "2002,2009,2016,2023,2037,2044,2051,2058,2072,2079,2086,2093,2107,2114,2121,2128,2142,2149,2156,2163,2177,2184,2191,2198,2212,2219,2226,2233,2247,2254,2261,2268,2282,2289,2296,2303,2317,2324,2331,2338,2352,2359,2366,2373,2387,2394,2401,2408,2422,2429,2436,2443,2457,2464,2471,2478,2492,2499,2506,2513,2527,2534,2541,2548,2562,2569,2576,2583,2597,2604,2611,2618,2632,2639,2646,2653,2667,2674,2681,2688,2702,2709,2716,2723,2737,2744,2751,2758,2772,2779,2786,2793,2807,2814,2821,2828,2842,2849,2856,2863,2877,2884,2891,2898,2912,2919,2926,2933,2947,2954,2961,2968,2982,2989,2996,3003,3017,3024,3031,3038,3052,3059,3066,3073,3087,3094,3101,3108,3122,3129,3136,3143,3157,3164,3171,3178,3192,3199\n"
     ]
    }
   ],
   "source": [
    "#Question: Write a program which will find all such numbers which are divisible by 7 but are not a multiple of 5,\n",
    "#between 2000 and 3200 (both included). \n",
    "#The numbers obtained should be printed in a comma-separated sequence on a single line.\n",
    "l=[]\n",
    "def Function():\n",
    "    for i in range(2000,3201):\n",
    "        if((i%7==0) and (i%5!=0)):\n",
    "            l.append(str(i))\n",
    "    print(','.join(l))\n",
    "Function()"
   ]
  },
  {
   "cell_type": "code",
   "execution_count": 2,
   "metadata": {},
   "outputs": [
    {
     "name": "stdout",
     "output_type": "stream",
     "text": [
      "enter the number8\n",
      "40320\n"
     ]
    }
   ],
   "source": [
    "#Question: Write a program which can compute the factorial of a given numbers. \n",
    "#The results should be printed in a comma-separated sequence on a single line. \n",
    "#Suppose the following input is supplied to the program: 8 Then, the output should be: 40320\n",
    "l=[]\n",
    "\n",
    "n=int(input(\"enter the number\"))\n",
    "def Factorial():\n",
    "    fact=1\n",
    "    for i in range(1,n+1):\n",
    "        fact=fact*i\n",
    "    print(fact)\n",
    "Factorial()   "
   ]
  },
  {
   "cell_type": "code",
   "execution_count": 3,
   "metadata": {},
   "outputs": [
    {
     "name": "stdout",
     "output_type": "stream",
     "text": [
      "Enter the value:8\n"
     ]
    },
    {
     "data": {
      "text/plain": [
       "{1: 1, 2: 4, 3: 9, 4: 16, 5: 25, 6: 36, 7: 49, 8: 64}"
      ]
     },
     "execution_count": 3,
     "metadata": {},
     "output_type": "execute_result"
    }
   ],
   "source": [
    "\"\"\"Question: With a given integral number n, write a program to generate a dictionary that contains (i, i*i) \n",
    "such that is an integral number between 1 and n (both included). \n",
    "and then the program should print the dictionary. Suppose the following input is supplied to the program: 8 \n",
    "Then, the output should be: {1: 1, 2: 4, 3: 9, 4: 16, 5: 25, 6: 36, 7: 49, 8: 64}\"\"\"\n",
    "\n",
    "dict={}\n",
    "n=int(input(\"Enter the value:\"))\n",
    "def Function():\n",
    "    for i in range(1,n+1):\n",
    "        dict[i]=i*i\n",
    "    return dict\n",
    "Function()\n",
    "        "
   ]
  },
  {
   "cell_type": "code",
   "execution_count": 4,
   "metadata": {},
   "outputs": [
    {
     "name": "stdout",
     "output_type": "stream",
     "text": [
      "[11, 8, 13, 9, 2]\n"
     ]
    },
    {
     "data": {
      "text/plain": [
       "(11, 8, 13, 9, 2)"
      ]
     },
     "execution_count": 4,
     "metadata": {},
     "output_type": "execute_result"
    }
   ],
   "source": [
    "\"\"\"Question: Write a program which accepts a sequence of comma-separated numbers \n",
    "from console and generate a list and a tuple which contains every number.\n",
    "Suppose the following input is supplied to the program: 34,67,55,33,12,98 \n",
    "Then, the output should be: ['34', '67', '55', '33', '12', '98'] ('34', '67', '55', '33', '12', '98')\"\"\"\n",
    "import random\n",
    "l=[]\n",
    "t=()\n",
    "def Function1():\n",
    "    for n in range(0,5):\n",
    "        n=random.randint(0,22)\n",
    "        l.append(n)\n",
    "    print(l)\n",
    "    return tuple(l)\n",
    "Function1()    \n",
    "    "
   ]
  },
  {
   "cell_type": "code",
   "execution_count": 5,
   "metadata": {},
   "outputs": [
    {
     "name": "stdout",
     "output_type": "stream",
     "text": [
      "priya\n",
      "PRIYA\n"
     ]
    }
   ],
   "source": [
    "\"\"\"Question: Define a class which has at least two methods: \n",
    "getString: to get a string from console input printString: to print the string in upper case. \n",
    "Also please include simple test function to test the class methods.\"\"\"\n",
    "\n",
    "class Test():\n",
    "    def __init__(self):\n",
    "        self.s=\"\"\n",
    "    def getString(self):\n",
    "        self.s=input()\n",
    "    def printString(self):\n",
    "        print(self.s.upper())\n",
    "t=Test()\n",
    "t.getString()\n",
    "t.printString()"
   ]
  },
  {
   "cell_type": "code",
   "execution_count": 6,
   "metadata": {},
   "outputs": [
    {
     "name": "stdout",
     "output_type": "stream",
     "text": [
      "100,150,180\n",
      "18,22,24\n"
     ]
    }
   ],
   "source": [
    "\"\"\"Question: Write a program that calculates and prints the value according to the given formula:\n",
    "Q = Square root of [(2 * C * D)/H] Following are the fixed values of C and H: C is 50. H is 30. \n",
    "D is the variable whose values should be input to your program in a comma-separated sequence. \n",
    "Example Let us assume the following comma separated input sequence is given to the program: 100,150,180 \n",
    "The output of the program should be: 18,22,24\"\"\"\n",
    "\n",
    "\n",
    "import math\n",
    "C=50\n",
    "H=30\n",
    "value=[]\n",
    "items=[i for i in input().split(',')]\n",
    "for D in items:\n",
    "    value.append(str(int(round(math.sqrt(2*C*float(D)/H)))))\n",
    "    \n",
    "print(','.join(value))\n",
    "    \n",
    "    "
   ]
  },
  {
   "cell_type": "code",
   "execution_count": 7,
   "metadata": {},
   "outputs": [
    {
     "name": "stdout",
     "output_type": "stream",
     "text": [
      "3,5\n",
      "[[0, 0, 0, 0, 0], [0, 1, 2, 3, 4], [0, 2, 4, 6, 8]]\n"
     ]
    }
   ],
   "source": [
    "\"\"\"Write a program which takes 2 digits, X,Y as input and generates a 2-dimensional array.\n",
    "The element value in the i-th row and j-th column of the array should be i*j.\n",
    "Note: i=0,1.., X-1; j=0,1,¡­Y-1. Example Suppose the following inputs are given to the program: 3,5 Then, \n",
    "the output of the program should be: [[0, 0, 0, 0, 0], [0, 1, 2, 3, 4], [0, 2, 4, 6, 8]]\"\"\"\n",
    "\n",
    "input_str = input()\n",
    "dimensions=[int(x) for x in input_str.split(',')]\n",
    "rowNum=dimensions[0]\n",
    "colNum=dimensions[1]\n",
    "multilist = [[0 for col in range(colNum)] for row in range(rowNum)]\n",
    "for row in range(0,rowNum):\n",
    "    for col in range(0,colNum):\n",
    "        multilist[row][col]=row*col\n",
    "print(multilist)"
   ]
  },
  {
   "cell_type": "code",
   "execution_count": 8,
   "metadata": {},
   "outputs": [
    {
     "name": "stdout",
     "output_type": "stream",
     "text": [
      "A,H,B,Z,K,I,D\n",
      "A,B,D,H,I,K,Z\n"
     ]
    }
   ],
   "source": [
    "\"\"\"Write a program that accepts a comma separated sequence of words as input and \n",
    "prints the words in a comma-separated sequence after sorting them alphabetically.\n",
    "Suppose the following input is supplied to the program: without,hello,bag,world \n",
    "Then, the output should be: bag,hello,without,world\"\"\"\n",
    "\n",
    "items=[x for x in input().split(',')]\n",
    "items.sort()\n",
    "print(','.join(items))"
   ]
  },
  {
   "cell_type": "code",
   "execution_count": 9,
   "metadata": {},
   "outputs": [
    {
     "name": "stdout",
     "output_type": "stream",
     "text": [
      "Hello world Practice makes perfect\n",
      "HELLO WORLD PRACTICE MAKES PERFECT\n"
     ]
    }
   ],
   "source": [
    "\"\"\"Question£º Write a program that accepts sequence of lines as input and \n",
    "prints the lines after making all characters in the sentence capitalized. \n",
    "Suppose the following input is supplied to the program: Hello world Practice makes perfect Then, \n",
    "the output should be: HELLO WORLD PRACTICE MAKES PERFECT\"\"\"\n",
    "\n",
    "lines = []\n",
    "s = input()\n",
    "lines.append(s.upper())\n",
    "for sentence in lines:\n",
    "    print(sentence)"
   ]
  },
  {
   "cell_type": "code",
   "execution_count": 10,
   "metadata": {},
   "outputs": [
    {
     "name": "stdout",
     "output_type": "stream",
     "text": [
      "hello world and practice makes perfect and hello world again\n",
      "again and hello makes perfect practice world\n"
     ]
    }
   ],
   "source": [
    "\"\"\"Question: Write a program that accepts a sequence of whitespace separated words as input and prints the words \n",
    "after removing all duplicate words and sorting them alphanumerically. \n",
    "Suppose the following input is supplied to the program: \n",
    "hello world and practice makes perfect and hello world again Then, \n",
    "the output should be: again and hello makes perfect practice world\"\"\"\n",
    "\n",
    "s = input()\n",
    "words = [word for word in s.split(\" \")]\n",
    "print(\" \".join(sorted(list(set(words)))))\n",
    "\n"
   ]
  }
 ],
 "metadata": {
  "kernelspec": {
   "display_name": "Python 3",
   "language": "python",
   "name": "python3"
  },
  "language_info": {
   "codemirror_mode": {
    "name": "ipython",
    "version": 3
   },
   "file_extension": ".py",
   "mimetype": "text/x-python",
   "name": "python",
   "nbconvert_exporter": "python",
   "pygments_lexer": "ipython3",
   "version": "3.7.4"
  }
 },
 "nbformat": 4,
 "nbformat_minor": 2
}
