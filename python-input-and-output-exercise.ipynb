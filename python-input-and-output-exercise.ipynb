{
 "cells": [
  {
   "cell_type": "code",
   "execution_count": 4,
   "metadata": {},
   "outputs": [
    {
     "name": "stdout",
     "output_type": "stream",
     "text": [
      "enter the number2\n",
      "enter the number3\n",
      "multiplication of 2 and 3 is 6\n"
     ]
    }
   ],
   "source": [
    "\"\"\"Exercise Question 1: Accept two numbers from the user and calculate multiplication\"\"\"\n",
    "\n",
    "num1=int(input('enter the number'))\n",
    "num2=int(input('enter the number'))\n",
    "\n",
    "mul=num1*num2\n",
    "\n",
    "print('multiplication of {} and {} is {}'.format(num1,num2,mul))"
   ]
  },
  {
   "cell_type": "code",
   "execution_count": 11,
   "metadata": {},
   "outputs": [
    {
     "name": "stdout",
     "output_type": "stream",
     "text": [
      "My**Name**Is**James\n"
     ]
    }
   ],
   "source": [
    "\"\"\"Exercise Question 2: Display “My Name Is James” as “My**Name**Is**James” using output formatting of a print() function\"\"\"\n",
    "\n",
    "str1='My Name Is James'\n",
    "x=str1.replace(' ','**')\n",
    "print(x)\n",
    "\n",
    "#print('My','Name','Is','James',sep='**')"
   ]
  },
  {
   "cell_type": "code",
   "execution_count": 13,
   "metadata": {},
   "outputs": [
    {
     "name": "stdout",
     "output_type": "stream",
     "text": [
      "10\n"
     ]
    }
   ],
   "source": [
    "\"\"\"Exercise Question 3: Convert decimal number to octal using print() output formatting\"\"\"\n",
    "\n",
    "print('%o'%(8))"
   ]
  },
  {
   "cell_type": "code",
   "execution_count": 18,
   "metadata": {},
   "outputs": [
    {
     "name": "stdout",
     "output_type": "stream",
     "text": [
      "458.54\n"
     ]
    }
   ],
   "source": [
    "\"\"\"Exercise Question 4: Display float number with 2 decimal places using print()\"\"\"\n",
    "\n",
    "print('%.2f'% 458.541315)"
   ]
  },
  {
   "cell_type": "code",
   "execution_count": 20,
   "metadata": {},
   "outputs": [
    {
     "name": "stdout",
     "output_type": "stream",
     "text": [
      "2.34\n",
      "3.45\n",
      "4.56\n",
      "5.67\n",
      "6.78\n",
      "[2.34, 3.45, 4.56, 5.67, 6.78]\n"
     ]
    }
   ],
   "source": [
    "\"\"\"Exercise Question 5: Accept list of 5 float numbers as a input from user\"\"\"\n",
    "\n",
    "list=[]\n",
    "for i in range(5):\n",
    "    i=float(input())\n",
    "    list.append(i)\n",
    "print(list)"
   ]
  },
  {
   "cell_type": "code",
   "execution_count": 26,
   "metadata": {},
   "outputs": [],
   "source": [
    "\"\"\"Exercise Question 6: write all file content into new file by skiping line 5 from following file\"\"\"\n",
    "\n",
    "count=0\n",
    "\n",
    "with open('test.txt','r') as fp:\n",
    "    lines=fp.readlines()\n",
    "    count=len(lines)\n",
    "with open('newFile.txt','w') as fp:\n",
    "    for line in lines:\n",
    "        if (count==3):\n",
    "            count-=1\n",
    "            continue\n",
    "        else:\n",
    "            fp.write(line)\n",
    "        count-=1    "
   ]
  },
  {
   "cell_type": "code",
   "execution_count": 31,
   "metadata": {},
   "outputs": [
    {
     "name": "stdout",
     "output_type": "stream",
     "text": [
      "enter the input value:priya lakshmi jyothi\n",
      "priya lakshmi jyothi\n"
     ]
    }
   ],
   "source": [
    "\"\"\"Exercise Question 7: Accept any three string from one input() call\"\"\"\n",
    "\n",
    "str1,str2,str3=input('enter the input value:').split( )\n",
    "print(str1,str2,str3)\n"
   ]
  },
  {
   "cell_type": "code",
   "execution_count": 35,
   "metadata": {},
   "outputs": [
    {
     "name": "stdout",
     "output_type": "stream",
     "text": [
      "I have 1000 dollars so I can buy 3 football for 450 dollars\n"
     ]
    }
   ],
   "source": [
    "\"\"\"we have below data\n",
    "totalMoney = 1000\n",
    "quantity = 3\n",
    "price = 450\n",
    "\n",
    "display above data using string.format() method\n",
    "\n",
    "I have 1000 dollars so I can buy 3 football for 450.00 dollars.\n",
    "\n",
    "\"\"\"\n",
    "totalMoney = 1000\n",
    "quantity = 3\n",
    "price = 450\n",
    "\n",
    "print('I have {} dollars so I can buy {} football for {} dollars'.format(totalMoney,quantity,price))"
   ]
  },
  {
   "cell_type": "code",
   "execution_count": 36,
   "metadata": {},
   "outputs": [
    {
     "name": "stdout",
     "output_type": "stream",
     "text": [
      "False\n"
     ]
    }
   ],
   "source": [
    "\"\"\"Exercise Question 9: How to check file is empty or not\"\"\"\n",
    "import os\n",
    "print(os.stat(\"test.txt\").st_size == 0)\n",
    "\n",
    "#if file is  empty it will returrn true as an output"
   ]
  },
  {
   "cell_type": "code",
   "execution_count": 37,
   "metadata": {},
   "outputs": [
    {
     "name": "stdout",
     "output_type": "stream",
     "text": [
      "Exercise Question 6: write all file content into new file by skiping line 5 from following file\n",
      "\n"
     ]
    }
   ],
   "source": [
    "\"\"\"Exercise Question 10: Read line number 4 from the following file\"\"\"\n",
    "\n",
    "with open(\"test.txt\", \"r\") as fp:\n",
    "    lines = fp.readlines()\n",
    "    print(lines[3])"
   ]
  }
 ],
 "metadata": {
  "kernelspec": {
   "display_name": "Python 3",
   "language": "python",
   "name": "python3"
  },
  "language_info": {
   "codemirror_mode": {
    "name": "ipython",
    "version": 3
   },
   "file_extension": ".py",
   "mimetype": "text/x-python",
   "name": "python",
   "nbconvert_exporter": "python",
   "pygments_lexer": "ipython3",
   "version": "3.7.4"
  }
 },
 "nbformat": 4,
 "nbformat_minor": 2
}
